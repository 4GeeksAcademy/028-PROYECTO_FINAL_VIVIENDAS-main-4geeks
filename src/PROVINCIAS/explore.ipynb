{
    "cells": [
        {
            "cell_type": "markdown",
            "metadata": {},
            "source": [
                "# Explore here"
            ]
        },
        {
            "cell_type": "code",
            "execution_count": 2,
            "metadata": {},
            "outputs": [
                {
                    "name": "stdout",
                    "output_type": "stream",
                    "text": [
                        "Se han eliminado las comillas y se ha creado el archivo libro_sin_comillas.csv\n"
                    ]
                }
            ],
            "source": [
                "import csv\n",
                "\n",
                "# Nombre del archivo CSV de entrada y salida\n",
                "archivo_entrada = 'libro.csv'\n",
                "archivo_salida = 'libro_sin_comillas.csv'\n",
                "\n",
                "# Abrir el archivo de entrada para lectura y el archivo de salida para escritura\n",
                "with open(archivo_entrada, 'r', newline='', encoding='utf-8') as csv_entrada, \\\n",
                "     open(archivo_salida, 'w', newline='', encoding='utf-8') as csv_salida:\n",
                "\n",
                "    lector_csv = csv.reader(csv_entrada)\n",
                "    escritor_csv = csv.writer(csv_salida)\n",
                "\n",
                "    for fila in lector_csv:\n",
                "        nueva_fila = [campo.replace('\"', '') for campo in fila]\n",
                "        escritor_csv.writerow(nueva_fila)\n",
                "\n",
                "print(\"Se han eliminado las comillas y se ha creado el archivo\", archivo_salida)\n"
            ]
        },
        {
            "cell_type": "markdown",
            "metadata": {},
            "source": [
                "------------------"
            ]
        },
        {
            "cell_type": "code",
            "execution_count": 8,
            "metadata": {},
            "outputs": [],
            "source": [
                "import pandas as pd\n",
                "import random\n",
                "# Reemplaza 'tu_archivo.csv' con el nombre de tu archivo CSV\n",
                "df = pd.read_csv(r'/workspaces/028-PROYECTO_FINAL_VIVIENDAS-main/src/csv finales/comunidades_FINAL_SINDUPLICADOS.csv')"
            ]
        },
        {
            "cell_type": "code",
            "execution_count": 9,
            "metadata": {},
            "outputs": [],
            "source": [
                "# Crear un DataFrame vacío para almacenar los resultados\n",
                "resultados = pd.DataFrame(columns=df.columns)\n",
                "\n",
                "# Lista de todas las comunidades autónomas únicas en el archivo\n",
                "comunidades_autonomas = df['com. autonoma'].unique()\n"
            ]
        },
        {
            "cell_type": "code",
            "execution_count": 10,
            "metadata": {},
            "outputs": [],
            "source": [
                "# Definir el número de datos que deseas obtener por cada comunidad autónoma (1500 en este caso)\n",
                "datos_por_comunidad = 1400\n",
                "\n",
                "for comunidad in comunidades_autonomas:\n",
                "    # Filtrar las filas correspondientes a la comunidad actual, excluyendo 'Ceuta' y 'Melilla'\n",
                "    comunidad_df = df[(df['com. autonoma'] == comunidad) & (df['com. autonoma'] != 'Ceuta') & (df['com. autonoma'] != 'Melilla')]\n",
                "    \n",
                "    # Verificar si hay al menos 1500 filas en esta comunidad autónoma\n",
                "    if len(comunidad_df) >= datos_por_comunidad:\n",
                "        # Seleccionar aleatoriamente 1500 filas\n",
                "        muestra = comunidad_df.sample(n=datos_por_comunidad, random_state=42)\n",
                "        # Agregar la muestra al DataFrame de resultados\n",
                "        resultados = pd.concat([resultados, muestra])\n",
                "    else:\n",
                "        # Si no hay suficientes datos en la comunidad autónoma, agregar todos los disponibles\n",
                "        resultados = pd.concat([resultados, comunidad_df])\n",
                "\n",
                "# Los resultados ahora contienen 1500 datos de cada comunidad autónoma, excluyendo 'Ceuta' y 'Melilla'\n"
            ]
        },
        {
            "cell_type": "code",
            "execution_count": 11,
            "metadata": {},
            "outputs": [],
            "source": [
                "# Guardar los resultados en un nuevo archivo CSV\n",
                "resultados.to_csv('comunidades_FINAL_1500.csv', index=False)\n"
            ]
        },
        {
            "cell_type": "markdown",
            "metadata": {},
            "source": [
                "---"
            ]
        },
        {
            "cell_type": "markdown",
            "metadata": {},
            "source": [
                "---"
            ]
        },
        {
            "cell_type": "code",
            "execution_count": 5,
            "metadata": {},
            "outputs": [
                {
                    "name": "stdout",
                    "output_type": "stream",
                    "text": [
                        "Nuevo archivo CSV creado con éxito.\n"
                    ]
                }
            ],
            "source": [
                "import pandas as pd\n",
                "\n",
                "# Ruta del archivo CSV original\n",
                "ruta_archivo_original = \"/workspaces/028-PROYECTO_FINAL_VIVIENDAS-main/src/PROVINCIAS/csv_brutos/a_coruña.csv\"\n",
                "\n",
                "# Leer el archivo CSV original en un DataFrame\n",
                "dataframe_original = pd.read_csv(ruta_archivo_original)\n",
                "\n",
                "# Seleccionar las columnas necesarias\n",
                "columnas_seleccionadas = [\"Tipo de inmueble\", \"Descripción\", \"Dirección\", \"Precio\", \"Habitaciones\"]\n",
                "dataframe_nuevo = dataframe_original[columnas_seleccionadas]\n",
                "\n",
                "# Ruta del nuevo archivo CSV\n",
                "ruta_archivo_nuevo = \"a_coruña_clean.csv\"  # Reemplaza con la ruta donde deseas guardar el nuevo archivo\n",
                "\n",
                "# Guardar el nuevo DataFrame en un nuevo archivo CSV\n",
                "dataframe_nuevo.to_csv(ruta_archivo_nuevo, index=False)\n",
                "\n",
                "print(\"Nuevo archivo CSV creado con éxito.\")\n"
            ]
        },
        {
            "cell_type": "markdown",
            "metadata": {},
            "source": [
                "---"
            ]
        },
        {
            "cell_type": "markdown",
            "metadata": {},
            "source": [
                "codigo para limpiar csv y sacar m2 de descripcion"
            ]
        },
        {
            "cell_type": "code",
            "execution_count": 32,
            "metadata": {},
            "outputs": [
                {
                    "name": "stdout",
                    "output_type": "stream",
                    "text": [
                        "Nuevo archivo CSV creado con éxito.\n"
                    ]
                }
            ],
            "source": [
                "import pandas as pd\n",
                "import re\n",
                "import random\n",
                "\n",
                "# Ruta del archivo CSV original\n",
                "ruta_archivo_original = \"/workspaces/028-PROYECTO_FINAL_VIVIENDAS-main/src/PROVINCIAS/csv_brutos/a_coruña.csv\"\n",
                "\n",
                "# Leer el archivo CSV original en un DataFrame\n",
                "dataframe_original = pd.read_csv(ruta_archivo_original)\n",
                "\n",
                "# Función para extraer 'm2' o 'metros cuadrados' y los números decimales detrás\n",
                "def extraer_m2(descripcion):\n",
                "    match = re.search(r'(\\d+(\\.\\d+)?)\\s*(m2|metros\\s*cuadrados?)', descripcion, re.I)\n",
                "    if match:\n",
                "        return match.group(1)\n",
                "    return None\n",
                "\n",
                "# Aplicar la función a la columna 'Descripción'\n",
                "dataframe_original['m2'] = dataframe_original['Descripción'].apply(extraer_m2)\n",
                "\n",
                "# Función para generar números aleatorios enteros en función del número de habitaciones\n",
                "def numero_aleatorio_por_habitaciones(num_habitaciones):\n",
                "    if num_habitaciones is None:\n",
                "        return random.randint(0, 10)  # Valor aleatorio si no se conoce el número de habitaciones\n",
                "    num_habitaciones = int(num_habitaciones)  # Convertir a entero\n",
                "    if num_habitaciones == 0:\n",
                "        return random.randint(20, 50)\n",
                "    elif num_habitaciones == 1:\n",
                "        return random.randint(40, 60)\n",
                "    elif num_habitaciones == 2:\n",
                "        return random.randint(60, 80)\n",
                "    elif num_habitaciones == 3:\n",
                "        return random.randint(80, 120)\n",
                "    elif num_habitaciones == 4:\n",
                "        return random.randint(120, 160)\n",
                "    elif num_habitaciones == 5:\n",
                "        return random.randint(160, 200)\n",
                "    elif num_habitaciones == 6:\n",
                "        return random.randint(200, 250)\n",
                "    elif num_habitaciones == 7:\n",
                "        return random.randint(250, 300)\n",
                "    elif num_habitaciones == 8:\n",
                "        return random.randint(300, 400)\n",
                "    elif num_habitaciones >= 9:\n",
                "        return random.randint(400, 700)  # Como referencia, pero puedes ajustarlo según tus necesidades\n",
                "    else:\n",
                "        return None\n",
                "\n",
                "# Convertir la columna \"Habitaciones\" a valores numéricos enteros\n",
                "dataframe_original['Habitaciones'] = pd.to_numeric(dataframe_original['Habitaciones'], errors='coerce').astype('Int64')\n",
                "\n",
                "# Rellenar filas sin número con números aleatorios según el número de habitaciones\n",
                "dataframe_original['Habitaciones'].fillna(random.randint(0, 10), inplace=True)  # Rellenar habitaciones vacías con un valor aleatorio entre 0 y 10\n",
                "dataframe_original['m2'].fillna(dataframe_original['Habitaciones'].apply(numero_aleatorio_por_habitaciones), inplace=True)\n",
                "\n",
                "# Seleccionar las columnas necesarias\n",
                "columnas_seleccionadas = [\"Tipo de inmueble\", \"Dirección\", \"Precio\", \"Habitaciones\", \"m2\"]\n",
                "dataframe_final = dataframe_original[columnas_seleccionadas]\n",
                "\n",
                "# Ruta del nuevo archivo CSV\n",
                "ruta_archivo_nuevo = \"a_coruña_limpio.csv\"  # Reemplaza con la ruta donde deseas guardar el nuevo archivo\n",
                "\n",
                "# Guardar el DataFrame final en un nuevo archivo CSV\n",
                "dataframe_final.to_csv(ruta_archivo_nuevo, index=False)\n",
                "\n",
                "print(\"Nuevo archivo CSV creado con éxito.\")\n"
            ]
        },
        {
            "cell_type": "markdown",
            "metadata": {},
            "source": [
                "---"
            ]
        }
    ],
    "metadata": {
        "kernelspec": {
            "display_name": "Python 3.8.13 64-bit ('3.8.13')",
            "language": "python",
            "name": "python3"
        },
        "language_info": {
            "codemirror_mode": {
                "name": "ipython",
                "version": 3
            },
            "file_extension": ".py",
            "mimetype": "text/x-python",
            "name": "python",
            "nbconvert_exporter": "python",
            "pygments_lexer": "ipython3",
            "version": "3.11.4"
        },
        "orig_nbformat": 4,
        "vscode": {
            "interpreter": {
                "hash": "110cc1dee26208153f2972f08a2ad52b6a56238dc66d48e87fb757ef2996db56"
            }
        }
    },
    "nbformat": 4,
    "nbformat_minor": 2
}
