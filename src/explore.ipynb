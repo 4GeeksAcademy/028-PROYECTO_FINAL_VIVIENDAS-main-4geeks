{
    "cells": [
        {
            "cell_type": "markdown",
            "metadata": {},
            "source": [
                "# Explore here"
            ]
        },
        {
            "cell_type": "code",
            "execution_count": 5,
            "metadata": {},
            "outputs": [
                {
                    "name": "stdout",
                    "output_type": "stream",
                    "text": [
                        "Archivos CSV de las provincias del País Vasco combinados exitosamente.\n"
                    ]
                }
            ],
            "source": [
                "import pandas as pd\n",
                "\n",
                "# Lee los archivos CSV de cada provincia, especificando el delimitador como punto y coma\n",
                "df_alava = pd.read_csv('alava.csv', delimiter=';')\n",
                "df_guipuzcoa = pd.read_csv('guipuzcoa.csv', delimiter=';')\n",
                "df_vizcaya = pd.read_csv('vizcaya.csv', delimiter=';')\n",
                "\n",
                "# Agrega una columna 'Provincia' en cada DataFrame para indicar la provincia de origen\n",
                "df_alava['Provincia'] = 'Álava'\n",
                "df_guipuzcoa['Provincia'] = 'Gipuzkoa'\n",
                "df_vizcaya['Provincia'] = 'Vizcaya'\n",
                "\n",
                "# Reordena las columnas para que 'Provincia' sea la primera\n",
                "column_order = ['Provincia'] + [col for col in df_alava.columns if col != 'Provincia']\n",
                "df_alava = df_alava[column_order]\n",
                "df_guipuzcoa = df_guipuzcoa[column_order]\n",
                "df_vizcaya = df_vizcaya[column_order]\n",
                "\n",
                "# Combina los DataFrames en uno solo\n",
                "df_pais_vasco = pd.concat([df_alava, df_guipuzcoa, df_vizcaya], ignore_index=True)\n",
                "\n",
                "# Guarda el DataFrame combinado en un nuevo archivo CSV\n",
                "df_pais_vasco.to_csv('pais_vasco.csv', index=False)\n",
                "\n",
                "print(\"Archivos CSV de las provincias del País Vasco combinados exitosamente.\")\n"
            ]
        }
    ],
    "metadata": {
        "kernelspec": {
            "display_name": "Python 3.8.13 64-bit ('3.8.13')",
            "language": "python",
            "name": "python3"
        },
        "language_info": {
            "codemirror_mode": {
                "name": "ipython",
                "version": 3
            },
            "file_extension": ".py",
            "mimetype": "text/x-python",
            "name": "python",
            "nbconvert_exporter": "python",
            "pygments_lexer": "ipython3",
            "version": "3.9.5"
        },
        "orig_nbformat": 4,
        "vscode": {
            "interpreter": {
                "hash": "110cc1dee26208153f2972f08a2ad52b6a56238dc66d48e87fb757ef2996db56"
            }
        }
    },
    "nbformat": 4,
    "nbformat_minor": 2
}
