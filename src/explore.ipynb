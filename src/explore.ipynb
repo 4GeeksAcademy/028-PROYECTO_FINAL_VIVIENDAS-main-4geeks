{
    "cells": [
        {
            "cell_type": "markdown",
            "metadata": {},
            "source": [
                "# Explore here"
            ]
        },
        {
            "cell_type": "code",
            "execution_count": 2,
            "metadata": {},
            "outputs": [
                {
                    "name": "stdout",
                    "output_type": "stream",
                    "text": [
                        "Se han eliminado las comillas y se ha creado el archivo libro_sin_comillas.csv\n"
                    ]
                }
            ],
            "source": [
                "import csv\n",
                "\n",
                "# Nombre del archivo CSV de entrada y salida\n",
                "archivo_entrada = 'libro.csv'\n",
                "archivo_salida = 'libro_sin_comillas.csv'\n",
                "\n",
                "# Abrir el archivo de entrada para lectura y el archivo de salida para escritura\n",
                "with open(archivo_entrada, 'r', newline='', encoding='utf-8') as csv_entrada, \\\n",
                "     open(archivo_salida, 'w', newline='', encoding='utf-8') as csv_salida:\n",
                "\n",
                "    lector_csv = csv.reader(csv_entrada)\n",
                "    escritor_csv = csv.writer(csv_salida)\n",
                "\n",
                "    for fila in lector_csv:\n",
                "        nueva_fila = [campo.replace('\"', '') for campo in fila]\n",
                "        escritor_csv.writerow(nueva_fila)\n",
                "\n",
                "print(\"Se han eliminado las comillas y se ha creado el archivo\", archivo_salida)\n"
            ]
        }
    ],
    "metadata": {
        "kernelspec": {
            "display_name": "Python 3.8.13 64-bit ('3.8.13')",
            "language": "python",
            "name": "python3"
        },
        "language_info": {
            "codemirror_mode": {
                "name": "ipython",
                "version": 3
            },
            "file_extension": ".py",
            "mimetype": "text/x-python",
            "name": "python",
            "nbconvert_exporter": "python",
            "pygments_lexer": "ipython3",
            "version": "3.9.5"
        },
        "orig_nbformat": 4,
        "vscode": {
            "interpreter": {
                "hash": "110cc1dee26208153f2972f08a2ad52b6a56238dc66d48e87fb757ef2996db56"
            }
        }
    },
    "nbformat": 4,
    "nbformat_minor": 2
}
