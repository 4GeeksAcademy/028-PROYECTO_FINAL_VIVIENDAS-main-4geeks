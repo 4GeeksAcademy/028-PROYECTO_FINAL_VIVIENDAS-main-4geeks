{
    "cells": [
        {
            "cell_type": "markdown",
            "metadata": {},
            "source": [
                "# Explore here"
            ]
        },
        {
            "cell_type": "code",
            "execution_count": 2,
            "metadata": {},
            "outputs": [
                {
                    "name": "stdout",
                    "output_type": "stream",
                    "text": [
                        "Se han eliminado las comillas y se ha creado el archivo libro_sin_comillas.csv\n"
                    ]
                }
            ],
            "source": [
                "import csv\n",
                "\n",
                "# Nombre del archivo CSV de entrada y salida\n",
                "archivo_entrada = 'libro.csv'\n",
                "archivo_salida = 'libro_sin_comillas.csv'\n",
                "\n",
                "# Abrir el archivo de entrada para lectura y el archivo de salida para escritura\n",
                "with open(archivo_entrada, 'r', newline='', encoding='utf-8') as csv_entrada, \\\n",
                "     open(archivo_salida, 'w', newline='', encoding='utf-8') as csv_salida:\n",
                "\n",
                "    lector_csv = csv.reader(csv_entrada)\n",
                "    escritor_csv = csv.writer(csv_salida)\n",
                "\n",
                "    for fila in lector_csv:\n",
                "        nueva_fila = [campo.replace('\"', '') for campo in fila]\n",
                "        escritor_csv.writerow(nueva_fila)\n",
                "\n",
                "print(\"Se han eliminado las comillas y se ha creado el archivo\", archivo_salida)\n"
            ]
        },
        {
            "cell_type": "markdown",
            "metadata": {},
            "source": [
                "------------------"
            ]
        },
        {
            "cell_type": "code",
            "execution_count": 8,
            "metadata": {},
            "outputs": [],
            "source": [
                "import pandas as pd\n",
                "import random\n",
                "# Reemplaza 'tu_archivo.csv' con el nombre de tu archivo CSV\n",
                "df = pd.read_csv(r'/workspaces/028-PROYECTO_FINAL_VIVIENDAS-main/src/csv finales/comunidades_FINAL_SINDUPLICADOS.csv')"
            ]
        },
        {
            "cell_type": "code",
            "execution_count": 9,
            "metadata": {},
            "outputs": [],
            "source": [
                "# Crear un DataFrame vacío para almacenar los resultados\n",
                "resultados = pd.DataFrame(columns=df.columns)\n",
                "\n",
                "# Lista de todas las comunidades autónomas únicas en el archivo\n",
                "comunidades_autonomas = df['com. autonoma'].unique()\n"
            ]
        },
        {
            "cell_type": "code",
            "execution_count": 10,
            "metadata": {},
            "outputs": [],
            "source": [
                "# Definir el número de datos que deseas obtener por cada comunidad autónoma (1500 en este caso)\n",
                "datos_por_comunidad = 1400\n",
                "\n",
                "for comunidad in comunidades_autonomas:\n",
                "    # Filtrar las filas correspondientes a la comunidad actual, excluyendo 'Ceuta' y 'Melilla'\n",
                "    comunidad_df = df[(df['com. autonoma'] == comunidad) & (df['com. autonoma'] != 'Ceuta') & (df['com. autonoma'] != 'Melilla')]\n",
                "    \n",
                "    # Verificar si hay al menos 1500 filas en esta comunidad autónoma\n",
                "    if len(comunidad_df) >= datos_por_comunidad:\n",
                "        # Seleccionar aleatoriamente 1500 filas\n",
                "        muestra = comunidad_df.sample(n=datos_por_comunidad, random_state=42)\n",
                "        # Agregar la muestra al DataFrame de resultados\n",
                "        resultados = pd.concat([resultados, muestra])\n",
                "    else:\n",
                "        # Si no hay suficientes datos en la comunidad autónoma, agregar todos los disponibles\n",
                "        resultados = pd.concat([resultados, comunidad_df])\n",
                "\n",
                "# Los resultados ahora contienen 1500 datos de cada comunidad autónoma, excluyendo 'Ceuta' y 'Melilla'\n"
            ]
        },
        {
            "cell_type": "code",
            "execution_count": 11,
            "metadata": {},
            "outputs": [],
            "source": [
                "# Guardar los resultados en un nuevo archivo CSV\n",
                "resultados.to_csv('comunidades_FINAL_1500.csv', index=False)\n"
            ]
        },
        {
            "cell_type": "markdown",
            "metadata": {},
            "source": [
                "---"
            ]
        },
        {
            "cell_type": "markdown",
            "metadata": {},
            "source": [
                "---"
            ]
        },
        {
            "cell_type": "code",
            "execution_count": 11,
            "metadata": {},
            "outputs": [
                {
                    "name": "stdout",
                    "output_type": "stream",
                    "text": [
                        "Nuevo archivo CSV creado con éxito.\n"
                    ]
                }
            ],
            "source": [
                "import pandas as pd\n",
                "\n",
                "# Ruta del archivo CSV original\n",
                "ruta_archivo_original = \"/workspaces/028-PROYECTO_FINAL_VIVIENDAS-main/src/PROVINCIAS/csv_brutos/a_coruña.csv\"\n",
                "\n",
                "# Leer el archivo CSV original en un DataFrame\n",
                "dataframe_original = pd.read_csv(ruta_archivo_original)\n",
                "\n",
                "# Seleccionar las columnas necesarias\n",
                "columnas_seleccionadas = [\"Tipo de inmueble\", \"Descripción\", \"Dirección\", \"Precio\", \"Habitaciones\"]\n",
                "dataframe_nuevo = dataframe_original[columnas_seleccionadas]\n",
                "\n",
                "# Ruta del nuevo archivo CSV\n",
                "ruta_archivo_nuevo = \"a_coruña_clean.csv\"  # Reemplaza con la ruta donde deseas guardar el nuevo archivo\n",
                "\n",
                "# Guardar el nuevo DataFrame en un nuevo archivo CSV\n",
                "dataframe_nuevo.to_csv(ruta_archivo_nuevo, index=False)\n",
                "\n",
                "print(\"Nuevo archivo CSV creado con éxito.\")\n"
            ]
        },
        {
            "cell_type": "markdown",
            "metadata": {},
            "source": [
                "---"
            ]
        }
    ],
    "metadata": {
        "kernelspec": {
            "display_name": "Python 3.8.13 64-bit ('3.8.13')",
            "language": "python",
            "name": "python3"
        },
        "language_info": {
            "codemirror_mode": {
                "name": "ipython",
                "version": 3
            },
            "file_extension": ".py",
            "mimetype": "text/x-python",
            "name": "python",
            "nbconvert_exporter": "python",
            "pygments_lexer": "ipython3",
            "version": "3.11.4"
        },
        "orig_nbformat": 4,
        "vscode": {
            "interpreter": {
                "hash": "110cc1dee26208153f2972f08a2ad52b6a56238dc66d48e87fb757ef2996db56"
            }
        }
    },
    "nbformat": 4,
    "nbformat_minor": 2
}
