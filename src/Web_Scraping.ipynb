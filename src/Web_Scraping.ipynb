{
 "cells": [
  {
   "cell_type": "markdown",
   "id": "5f4d163b",
   "metadata": {},
   "source": [
    "#### Lo primero es importar las librerías que tenemos que usar. En la siguiente celda te explico el por qué de cada una"
   ]
  },
  {
   "cell_type": "code",
   "execution_count": 1,
   "id": "c75d7985",
   "metadata": {},
   "outputs": [],
   "source": [
    "import requests\n",
    "\n",
    "## Esta librería no te servirá en este análisis, pero\n",
    "## es la librería básica para scrapear páginas más sencillas\n",
    "\n",
    "from bs4 import BeautifulSoup as bs\n",
    "\n",
    "## Esta sí. Con ella, sacaremos datos del HTML.\n",
    "\n",
    "import random\n",
    "\n",
    "## Para usar números aleatorios. Esta no era tan complicada.\n",
    "## La usaremos para no usar el mismo tiempo siempre al scrapear.\n",
    "\n",
    "import time\n",
    "\n",
    "## Con esta metemos el retardo a la máquina. Las máquinas van rápidas. Yo no.\n",
    "\n",
    "import pandas as pd\n",
    "import numpy as np\n",
    "\n",
    "## EL bread and butter del Data Science. Tablas y operaciones aritméticas.\n",
    "\n",
    "from selenium import webdriver\n",
    "from selenium.webdriver.common.by import By\n",
    "from selenium.webdriver.common.keys import Keys\n",
    "\n",
    "## Esta es la manera para usar selenium normal, pero nosotros tenemos que parecer humanos.\n",
    "## Por eso, usamos la siguiente librería.\n",
    "\n",
    "import undetected_chromedriver as uc\n",
    "\n",
    "## La persona que desarrolló esto es un crack. Configuró todos los proxies y\n",
    "## demás (digo demás porque no se qué brujería ha usado) para ser indetectable.\n",
    "## Usaremos este browser."
   ]
  },
  {
   "cell_type": "markdown",
   "id": "cfaeb685",
   "metadata": {},
   "source": [
    "Empecemos iniciando el explorador"
   ]
  },
  {
   "cell_type": "code",
   "execution_count": 2,
   "id": "2676610d",
   "metadata": {},
   "outputs": [
    {
     "ename": "TypeError",
     "evalue": "__init__() got an unexpected keyword argument 'executable_path'",
     "output_type": "error",
     "traceback": [
      "\u001b[1;31m---------------------------------------------------------------------------\u001b[0m",
      "\u001b[1;31mTypeError\u001b[0m                                 Traceback (most recent call last)",
      "Cell \u001b[1;32mIn[2], line 1\u001b[0m\n\u001b[1;32m----> 1\u001b[0m browser \u001b[39m=\u001b[39m uc\u001b[39m.\u001b[39;49mChrome()\n",
      "File \u001b[1;32mc:\\Users\\Jaime\\AppData\\Local\\Programs\\Python\\Python39\\lib\\site-packages\\undetected_chromedriver\\__init__.py:53\u001b[0m, in \u001b[0;36mChrome.__new__\u001b[1;34m(cls, enable_console_log, *args, **kwargs)\u001b[0m\n\u001b[0;32m     51\u001b[0m     kwargs[\u001b[39m\"\u001b[39m\u001b[39moptions\u001b[39m\u001b[39m\"\u001b[39m] \u001b[39m=\u001b[39m ChromeOptions()\n\u001b[0;32m     52\u001b[0m instance \u001b[39m=\u001b[39m \u001b[39mobject\u001b[39m\u001b[39m.\u001b[39m\u001b[39m__new__\u001b[39m(_Chrome)\n\u001b[1;32m---> 53\u001b[0m instance\u001b[39m.\u001b[39m\u001b[39m__init__\u001b[39m(\u001b[39m*\u001b[39margs, \u001b[39m*\u001b[39m\u001b[39m*\u001b[39mkwargs)\n\u001b[0;32m     55\u001b[0m instance\u001b[39m.\u001b[39m_orig_get \u001b[39m=\u001b[39m instance\u001b[39m.\u001b[39mget\n\u001b[0;32m     57\u001b[0m \u001b[39mdef\u001b[39;00m \u001b[39m_get_wrapped\u001b[39m(\u001b[39m*\u001b[39margs, \u001b[39m*\u001b[39m\u001b[39m*\u001b[39mkwargs):\n",
      "\u001b[1;31mTypeError\u001b[0m: __init__() got an unexpected keyword argument 'executable_path'"
     ]
    }
   ],
   "source": [
    "browser = uc.Chrome()"
   ]
  },
  {
   "cell_type": "markdown",
   "id": "8ea561b9",
   "metadata": {},
   "source": [
    "Bien!\n",
    "\n",
    "Ahora, vayamos a una casa que queramos scrapear. Yo he seleccionado esta, pero pon la que prefieras."
   ]
  },
  {
   "cell_type": "code",
   "execution_count": null,
   "id": "90cff4d9",
   "metadata": {},
   "outputs": [],
   "source": [
    "url = \"https://www.idealista.com/inmueble/97786099/\""
   ]
  },
  {
   "cell_type": "markdown",
   "id": "a184ad7a",
   "metadata": {},
   "source": [
    "Vayamos a esa casa"
   ]
  },
  {
   "cell_type": "code",
   "execution_count": null,
   "id": "62590fad",
   "metadata": {},
   "outputs": [
    {
     "ename": "NameError",
     "evalue": "name 'browser' is not defined",
     "output_type": "error",
     "traceback": [
      "\u001b[1;31m---------------------------------------------------------------------------\u001b[0m",
      "\u001b[1;31mNameError\u001b[0m                                 Traceback (most recent call last)",
      "Cell \u001b[1;32mIn[4], line 1\u001b[0m\n\u001b[1;32m----> 1\u001b[0m browser\u001b[39m.\u001b[39mget(url)\n",
      "\u001b[1;31mNameError\u001b[0m: name 'browser' is not defined"
     ]
    }
   ],
   "source": [
    "browser.get(url)"
   ]
  },
  {
   "cell_type": "markdown",
   "id": "ad28825e",
   "metadata": {},
   "source": [
    "Vaya, hay que pulsar las cookies! No puedes hacer click en nada de la información hasta que no la pulses.\n",
    "\n",
    "No te preocupes, buscamos el xpath como en el video y hacemos click en él.\n",
    "\n",
    "(También puedes hacer click manualmente. Nadie se va a enterar)"
   ]
  },
  {
   "cell_type": "code",
   "execution_count": null,
   "id": "d818cda0",
   "metadata": {},
   "outputs": [],
   "source": [
    "browser.find_element(\"xpath\",'//*[@id=\"didomi-notice-agree-button\"]').click()"
   ]
  },
  {
   "cell_type": "markdown",
   "id": "189d3926",
   "metadata": {},
   "source": [
    "Ahora, vamos a sacar el html de la página."
   ]
  },
  {
   "cell_type": "code",
   "execution_count": null,
   "id": "666f59da",
   "metadata": {},
   "outputs": [],
   "source": [
    "html = browser.page_source\n",
    "html"
   ]
  },
  {
   "cell_type": "markdown",
   "id": "3cb2b609",
   "metadata": {},
   "source": [
    "Que feo queda no?\n",
    "\n",
    "Vamos a usar BeautifulSoup para dejarlo mucho mejor. Y apto para sacar info."
   ]
  },
  {
   "cell_type": "code",
   "execution_count": null,
   "id": "c7eca1a8",
   "metadata": {},
   "outputs": [],
   "source": [
    "soup = bs(html, 'lxml')\n",
    "soup"
   ]
  },
  {
   "cell_type": "markdown",
   "id": "428200ea",
   "metadata": {},
   "source": [
    "Perfecto, ya podemos empezar a sacarle los datos.\n",
    "\n",
    "Realizamos lo mismo que aparece en el vídeo."
   ]
  },
  {
   "cell_type": "code",
   "execution_count": null,
   "id": "3d3651f2",
   "metadata": {},
   "outputs": [],
   "source": [
    "titulo = soup.find('span',{'class':'main-info__title-main'}).text\n",
    "titulo"
   ]
  },
  {
   "cell_type": "code",
   "execution_count": null,
   "id": "c6c1fc8c",
   "metadata": {},
   "outputs": [],
   "source": [
    "localizacion = soup.find('span',{'class':'main-info__title-minor'}).text.split(',')[0]\n",
    "localizacion"
   ]
  },
  {
   "cell_type": "code",
   "execution_count": null,
   "id": "f62e4574",
   "metadata": {},
   "outputs": [],
   "source": [
    "precio = int(soup.find('span',{'class':'txt-bold'}).text.replace('.',''))\n",
    "precio"
   ]
  },
  {
   "cell_type": "code",
   "execution_count": null,
   "id": "e0c2c452",
   "metadata": {},
   "outputs": [],
   "source": [
    "c1 = soup.find('div',{'class':'details-property'}).find('div',{'class': 'details-property-feature-one'})\n",
    "c1"
   ]
  },
  {
   "cell_type": "code",
   "execution_count": null,
   "id": "4c204f9c",
   "metadata": {},
   "outputs": [],
   "source": [
    "caract_basicas = [caract.text.strip() for caract in c1.find_all('li')]\n",
    "caract_basicas"
   ]
  },
  {
   "cell_type": "code",
   "execution_count": null,
   "id": "951d5349",
   "metadata": {},
   "outputs": [],
   "source": [
    "c2 = soup.find('div',{'class':'details-property'}).find('div',{'class': 'details-property-feature-two'})\n",
    "c2"
   ]
  },
  {
   "cell_type": "code",
   "execution_count": null,
   "id": "ae38b025",
   "metadata": {},
   "outputs": [],
   "source": [
    "caract_extra = [caract.text.strip() for caract in c2.find_all('li')]\n",
    "caract_extra"
   ]
  },
  {
   "cell_type": "code",
   "execution_count": null,
   "id": "3f560a8d",
   "metadata": {},
   "outputs": [],
   "source": [
    "ubicacion = soup.find('div',{'id':'headerMap'})\n",
    "ubicacion"
   ]
  },
  {
   "cell_type": "code",
   "execution_count": null,
   "id": "e55e9e46",
   "metadata": {},
   "outputs": [],
   "source": [
    "ubicacion_desg = [zona.text.strip() for zona in ubicacion.find_all('li')]\n",
    "ubicacion_desg"
   ]
  },
  {
   "cell_type": "markdown",
   "id": "5cdc0a00",
   "metadata": {},
   "source": [
    "Vale, ya hemos sacado todos los datos que queremos!\n",
    "\n",
    "Lo bueno es, que, si quieres, puedes sacar los datos que tú quieras."
   ]
  },
  {
   "cell_type": "markdown",
   "id": "0b7cd68f",
   "metadata": {},
   "source": [
    "Vamos a automatizar esto para las casas de tu zona."
   ]
  },
  {
   "cell_type": "code",
   "execution_count": null,
   "id": "b4b7c3a3",
   "metadata": {},
   "outputs": [],
   "source": [
    "url_grande = 'https://www.idealista.com/venta-viviendas/sevilla/los-remedios/'"
   ]
  },
  {
   "cell_type": "markdown",
   "id": "51822a18",
   "metadata": {},
   "source": [
    "Bueno sí, sigue siendo mi zona. Pero pon la tuya!"
   ]
  },
  {
   "cell_type": "markdown",
   "id": "05360ed0",
   "metadata": {},
   "source": [
    "Ahora, queremos sacar el id de cada casa. Vamos a sacar el html de la pagina grande:"
   ]
  },
  {
   "cell_type": "code",
   "execution_count": null,
   "id": "508604db",
   "metadata": {},
   "outputs": [],
   "source": [
    "browser.get(url_grande)"
   ]
  },
  {
   "cell_type": "code",
   "execution_count": null,
   "id": "2a8bebb2",
   "metadata": {},
   "outputs": [],
   "source": [
    "browser.find_element(\"xpath\",'//*[@id=\"didomi-notice-agree-button\"]').click()"
   ]
  },
  {
   "cell_type": "code",
   "execution_count": null,
   "id": "7d799b22",
   "metadata": {},
   "outputs": [],
   "source": [
    "html = browser.page_source"
   ]
  },
  {
   "cell_type": "code",
   "execution_count": null,
   "id": "54dc0ca4",
   "metadata": {},
   "outputs": [],
   "source": [
    "soup = bs(html, 'lxml')\n",
    "soup"
   ]
  },
  {
   "cell_type": "markdown",
   "id": "e2e4e70c",
   "metadata": {},
   "source": [
    "Ahora localizamos donde está cada casa y las listamos:"
   ]
  },
  {
   "cell_type": "code",
   "execution_count": null,
   "id": "b4197569",
   "metadata": {},
   "outputs": [],
   "source": [
    "articles = soup.find('main',{'class':'listing-items'}).find_all('article')\n",
    "articles"
   ]
  },
  {
   "cell_type": "markdown",
   "id": "0f8639b9",
   "metadata": {},
   "source": [
    "Seleccionemos los ids!"
   ]
  },
  {
   "cell_type": "code",
   "execution_count": null,
   "id": "fa29522f",
   "metadata": {},
   "outputs": [],
   "source": [
    "id_muebles = [article.get('data-adid') for article in articles]\n",
    "id_muebles"
   ]
  },
  {
   "cell_type": "markdown",
   "id": "096bef72",
   "metadata": {},
   "source": [
    "Filtramos los nones:"
   ]
  },
  {
   "cell_type": "code",
   "execution_count": null,
   "id": "0defc5e5",
   "metadata": {},
   "outputs": [],
   "source": [
    "id_muebles = [muebles for muebles in id_muebles if muebles is not None]\n",
    "id_muebles"
   ]
  },
  {
   "cell_type": "markdown",
   "id": "42e02327",
   "metadata": {},
   "source": [
    "Ahora que tenemos los ids de **una**, toca repetir este proceso para cada página de nuestra zona. Este proceso lo explico muy bien en el video."
   ]
  },
  {
   "cell_type": "code",
   "execution_count": null,
   "id": "ad8b2ee3",
   "metadata": {},
   "outputs": [],
   "source": [
    "busqueda = 'los remedios'\n",
    "\n",
    "busqueda = busqueda.replace(' ','-')\n",
    "\n",
    "x=1\n",
    "ids = []\n",
    "\n",
    "while True:\n",
    "    \n",
    "    url = f'https://www.idealista.com/venta-viviendas/sevilla/{busqueda}/pagina-{x}.htm'\n",
    "    \n",
    "    browser.get(url)\n",
    "    \n",
    "    time.sleep(random.randint(10,12))\n",
    "    \n",
    "    try:\n",
    "        \n",
    "        browser.find_element(\"xpath\",'//*[@id=\"didomi-notice-agree-button\"]').click()\n",
    "    except:\n",
    "        pass\n",
    "    \n",
    "    html = browser.page_source\n",
    "    \n",
    "    soup = bs(html, 'lxml')\n",
    "    \n",
    "    pagina_actual = int(soup.find('main',{'class':'listing-items'}).find('div',{'class':'pagination'}).find('li',{'class':'selected'}).text)\n",
    "    \n",
    "    if x == pagina_actual:\n",
    "\n",
    "        articles = soup.find('main',{'class':'listing-items'}).find_all('article')\n",
    "\n",
    "    else:\n",
    "        break\n",
    "    \n",
    "    x = x+1\n",
    "    \n",
    "    for article in articles:\n",
    "        \n",
    "        id_muebles = article.get('data-adid')\n",
    "        \n",
    "        ids.append(id_muebles)\n",
    "        \n",
    "        time.sleep(random.randint(1,3))\n",
    "        print(id_muebles)\n",
    "    \n",
    "    ids = [muebles for muebles in ids if muebles is not None]"
   ]
  },
  {
   "cell_type": "code",
   "execution_count": null,
   "id": "7edd0a13",
   "metadata": {},
   "outputs": [],
   "source": [
    "ids_casas = pd.DataFrame(ids)\n",
    "ids_casas.columns = ['id']\n",
    "ids_casas"
   ]
  },
  {
   "cell_type": "markdown",
   "id": "0244d1ab",
   "metadata": {},
   "source": [
    "Olé! Vamos a guardar estos ids para no perderlos.\n",
    "\n",
    "Lo gradaremos en un csv.\n",
    "\n",
    "Ojo al truqui de index= False!"
   ]
  },
  {
   "cell_type": "code",
   "execution_count": null,
   "id": "cd31685d",
   "metadata": {},
   "outputs": [],
   "source": [
    "ids_casas.to_csv('ids_casas.csv',index = False)"
   ]
  },
  {
   "cell_type": "markdown",
   "id": "b4e9cb7a",
   "metadata": {},
   "source": [
    "Ahora vamos a usar una técina muy utilizada en programación: crear algo vacío e ir rellenandolo.\n",
    "\n",
    "En este caso, creamos una serie llamada **casas** a la que vamos a ir añadiendo los datos scrapeados.\n",
    "\n",
    "Esta serie la pasamos a dataframe y vamos concatenandolas."
   ]
  },
  {
   "cell_type": "code",
   "execution_count": null,
   "id": "4ef9c049",
   "metadata": {},
   "outputs": [],
   "source": [
    "casas = pd.Series()"
   ]
  },
  {
   "cell_type": "markdown",
   "id": "035bebbc",
   "metadata": {},
   "source": [
    "Aquí tienes la función. He dejado algunos prints comentados, descoméntalos si quieres verlos mientras scrapeamos."
   ]
  },
  {
   "cell_type": "code",
   "execution_count": null,
   "id": "186b6566",
   "metadata": {},
   "outputs": [],
   "source": [
    "def parsear_inmueble(id_inmueble):\n",
    "    \n",
    "    print( '\\n Casa numero: ' + id_inmueble)\n",
    "    \n",
    "    url = \"https://www.idealista.com/inmueble/\" + id_inmueble + \"/\"\n",
    "    \n",
    "    browser.get(url)\n",
    "\n",
    "    html = browser.page_source\n",
    "    \n",
    "    soup = bs(html, 'lxml')\n",
    "\n",
    "    titulo = soup.find('span',{'class':'main-info__title-main'}).text\n",
    "    \n",
    "    print('\\n Titulo: ' + titulo)\n",
    "    \n",
    "    localizacion = soup.find('span',{'class':'main-info__title-minor'}).text.split(',')[0]\n",
    "\n",
    "    print('\\n Localizacion: ' + localizacion)\n",
    "    precio = int(soup.find('span',{'class':'txt-bold'}).text.replace('.',''))\n",
    "\n",
    "    c1 = soup.find('div',{'class':'details-property'}).find('div',{'class': 'details-property-feature-one'})\n",
    "\n",
    "    caract_basicas = [caract.text.strip() for caract in c1.find_all('li')]\n",
    "    \n",
    "    #print('Caracteristicas basicas:' + caract_basicas)\n",
    "\n",
    "    c2 = soup.find('div',{'class':'details-property'}).find('div',{'class': 'details-property-feature-two'})\n",
    "\n",
    "    caract_extra = [caract.text.strip() for caract in c2.find_all('li')]\n",
    "    \n",
    "    #print('Caracteristicas extras:' + caract_extra)\n",
    "    \n",
    "    casas['titulo'] = titulo\n",
    "    \n",
    "    casas['localizacion'] = localizacion\n",
    "    \n",
    "    casas['precio'] = precio\n",
    "    \n",
    "    casas['caracteristicas_basicas'] = caract_basicas\n",
    "    \n",
    "    casas['caracteristicas_extras'] = caract_extra\n",
    "    \n",
    "    df_casas = pd.DataFrame(casas)\n",
    "    \n",
    "    return(df_casas.T)"
   ]
  },
  {
   "cell_type": "code",
   "execution_count": null,
   "id": "c32f21dc",
   "metadata": {},
   "outputs": [],
   "source": [
    "df_casas = parsear_inmueble(ids_casas.iloc[0].id)\n",
    "\n",
    "for i in range(1,len(ids)):\n",
    "    \n",
    "    df_casas = pd.concat([df_casas,parsear_inmueble(ids[i])])\n",
    "    \n",
    "    time.sleep(random.randint(4,8))"
   ]
  },
  {
   "cell_type": "markdown",
   "id": "bb2a193b",
   "metadata": {},
   "source": [
    "A ver si funciona..."
   ]
  },
  {
   "cell_type": "code",
   "execution_count": null,
   "id": "ec775800",
   "metadata": {},
   "outputs": [],
   "source": [
    "df_casas"
   ]
  },
  {
   "cell_type": "markdown",
   "id": "6a278684",
   "metadata": {},
   "source": [
    "Perfecto! reseteemos el índice y guardemos estos datos en otro csv."
   ]
  },
  {
   "cell_type": "code",
   "execution_count": null,
   "id": "51161009",
   "metadata": {},
   "outputs": [],
   "source": [
    "df_casas.reset_index(drop=True, inplace=True)"
   ]
  },
  {
   "cell_type": "code",
   "execution_count": null,
   "id": "300c5dc5",
   "metadata": {},
   "outputs": [],
   "source": [
    "df_casas"
   ]
  },
  {
   "cell_type": "code",
   "execution_count": null,
   "id": "b082624d",
   "metadata": {},
   "outputs": [],
   "source": [
    "df_casas.to_csv('casas_idealista.csv', index = False, sep = ';', encoding = 'utf-16')"
   ]
  },
  {
   "cell_type": "markdown",
   "id": "8050a60b",
   "metadata": {},
   "source": [
    "## Hasta aquí el módulo de web scraping.\n",
    "\n",
    "## Si te ha gustado, comparte el video con amigos y diles cómo conseguir este notebook.\n",
    "\n",
    "## Si necesitas cualquier cosa, escríbeme al correo: javidatascience@gmail.com. Un saludo y muchas gracias!!"
   ]
  }
 ],
 "metadata": {
  "kernelspec": {
   "display_name": "Python 3 (ipykernel)",
   "language": "python",
   "name": "python3"
  },
  "language_info": {
   "codemirror_mode": {
    "name": "ipython",
    "version": 3
   },
   "file_extension": ".py",
   "mimetype": "text/x-python",
   "name": "python",
   "nbconvert_exporter": "python",
   "pygments_lexer": "ipython3",
   "version": "3.9.5"
  }
 },
 "nbformat": 4,
 "nbformat_minor": 5
}
