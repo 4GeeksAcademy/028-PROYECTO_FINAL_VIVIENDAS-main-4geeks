{
 "cells": [
  {
   "cell_type": "code",
   "execution_count": 1,
   "metadata": {},
   "outputs": [
    {
     "name": "stdout",
     "output_type": "stream",
     "text": [
      "Procesada página 1/28\n",
      "Procesada página 2/28\n",
      "Procesada página 3/28\n",
      "Procesada página 4/28\n",
      "Procesada página 5/28\n",
      "Procesada página 6/28\n",
      "Procesada página 7/28\n",
      "Procesada página 8/28\n",
      "Procesada página 9/28\n",
      "Procesada página 10/28\n",
      "Procesada página 11/28\n",
      "Procesada página 12/28\n",
      "Procesada página 13/28\n",
      "Procesada página 14/28\n",
      "Procesada página 15/28\n",
      "Procesada página 16/28\n",
      "Procesada página 17/28\n",
      "Procesada página 18/28\n",
      "Procesada página 19/28\n",
      "Procesada página 20/28\n",
      "Procesada página 21/28\n",
      "Procesada página 22/28\n",
      "Procesada página 23/28\n",
      "Procesada página 24/28\n",
      "Procesada página 25/28\n",
      "Procesada página 26/28\n",
      "Procesada página 27/28\n",
      "Procesada página 28/28\n"
     ]
    }
   ],
   "source": [
    "import requests\n",
    "from bs4 import BeautifulSoup\n",
    "import sqlite3\n",
    "import csv\n",
    "import time\n",
    "\n",
    "# Paso 1: Definir funciones para extraer y almacenar datos\n",
    "\n",
    "def extract_data_from_page(url):\n",
    "    response = requests.get(url)\n",
    "    soup = BeautifulSoup(response.content, \"html.parser\")\n",
    "    \n",
    "    records = []\n",
    "    \n",
    "    for item in soup.find_all(\"div\", class_=\"re-Card\"):\n",
    "        title = item.find(\"span\", class_=\"re-Card-title\").text.strip()\n",
    "        price = item.find(\"span\", class_=\"re-Card-price\").text.strip()\n",
    "        location = item.find(\"div\", class_=\"re-Card-location\").text.strip()\n",
    "        records.append((title, price, location))\n",
    "    \n",
    "    return records\n",
    "\n",
    "def save_to_database(records):\n",
    "    conn = sqlite3.connect(\"fotocasa_properties.db\")\n",
    "    cursor = conn.cursor()\n",
    "    \n",
    "    cursor.execute('''\n",
    "        CREATE TABLE IF NOT EXISTS properties (\n",
    "            id INTEGER PRIMARY KEY,\n",
    "            title TEXT,\n",
    "            price TEXT,\n",
    "            location TEXT\n",
    "        )\n",
    "    ''')\n",
    "    \n",
    "    cursor.executemany('''\n",
    "        INSERT INTO properties (title, price, location) VALUES (?, ?, ?)\n",
    "    ''', records)\n",
    "    \n",
    "    conn.commit()\n",
    "    conn.close()\n",
    "\n",
    "def save_to_csv(records):\n",
    "    csv_filename = \"fotocasa_properties.csv\"\n",
    "    csv_headers = [\"Title\", \"Price\", \"Location\"]\n",
    "\n",
    "    with open(csv_filename, \"w\", newline=\"\", encoding=\"utf-8\") as csv_file:\n",
    "        csv_writer = csv.writer(csv_file)\n",
    "        csv_writer.writerow(csv_headers)\n",
    "        csv_writer.writerows(records)\n",
    "\n",
    "# Paso 2: Obtener y almacenar datos de las 28 páginas\n",
    "\n",
    "base_url = \"https://www.fotocasa.es/es/comprar/viviendas/espana/todas-las-zonas/l?sortType=publicationDate&text=Galicia&page=\"\n",
    "total_pages = 28\n",
    "all_records = []\n",
    "\n",
    "for page in range(1, total_pages + 1):\n",
    "    page_url = base_url + str(page)\n",
    "    records = extract_data_from_page(page_url)\n",
    "    all_records.extend(records)\n",
    "    time.sleep(2)  # Agrega un retraso para ser respetuoso con el sitio web\n",
    "    print(f\"Procesada página {page}/{total_pages}\")\n",
    "\n",
    "save_to_database(all_records)\n",
    "save_to_csv(all_records)\n"
   ]
  },
  {
   "cell_type": "code",
   "execution_count": 2,
   "metadata": {},
   "outputs": [
    {
     "name": "stdout",
     "output_type": "stream",
     "text": [
      "Datos guardados en la base de datos y en el archivo CSV.\n"
     ]
    }
   ],
   "source": [
    "save_to_database(all_records)\n",
    "save_to_csv(all_records)\n",
    "print(\"Datos guardados en la base de datos y en el archivo CSV.\")\n"
   ]
  }
 ],
 "metadata": {
  "kernelspec": {
   "display_name": "Python 3",
   "language": "python",
   "name": "python3"
  },
  "language_info": {
   "codemirror_mode": {
    "name": "ipython",
    "version": 3
   },
   "file_extension": ".py",
   "mimetype": "text/x-python",
   "name": "python",
   "nbconvert_exporter": "python",
   "pygments_lexer": "ipython3",
   "version": "3.9.5"
  },
  "orig_nbformat": 4
 },
 "nbformat": 4,
 "nbformat_minor": 2
}
