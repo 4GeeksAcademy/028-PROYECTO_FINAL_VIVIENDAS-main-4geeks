{
 "cells": [
  {
   "cell_type": "code",
   "execution_count": 15,
   "metadata": {},
   "outputs": [],
   "source": [
    "import requests\n",
    "from bs4 import BeautifulSoup\n",
    "import sqlite3\n"
   ]
  },
  {
   "cell_type": "code",
   "execution_count": 16,
   "metadata": {},
   "outputs": [],
   "source": [
    "# Paso 2: Obtener el contenido de la página web\n",
    "\n",
    "url = \"https://www.idealista.com/buscar/venta-viviendas/con-precio-desde_300000/galicia/\"\n",
    "\n",
    "response = requests.get(url)\n",
    "\n",
    "html = response.text"
   ]
  },
  {
   "cell_type": "code",
   "execution_count": 17,
   "metadata": {},
   "outputs": [],
   "source": [
    "#Paso 3: Analizar el contenido HTML con Beautiful Soup\n",
    "\n",
    "soup = BeautifulSoup(html, \"html.parser\")"
   ]
  },
  {
   "cell_type": "code",
   "execution_count": 18,
   "metadata": {},
   "outputs": [],
   "source": [
    "#Paso 4: Extraer la información relevante\n",
    "\n",
    "property_listings = soup.select(\".item-info-container\")\n",
    "\n",
    "records = []\n",
    "for listing in property_listings:\n",
    "    title = listing.select_one(\".item-link\").text.strip()\n",
    "    price = listing.select_one(\".item-price\").text.strip()\n",
    "    location = listing.select_one(\".item-detail\").text.strip()\n",
    "    features = [feature.text.strip() for feature in listing.select(\".item-feature\")]\n",
    "\n",
    "    records.append((title, price, location, \", \".join(features)))"
   ]
  },
  {
   "cell_type": "code",
   "execution_count": 19,
   "metadata": {},
   "outputs": [
    {
     "name": "stdout",
     "output_type": "stream",
     "text": [
      "Datos almacenados en la base de datos SQLite.\n"
     ]
    }
   ],
   "source": [
    "#Paso 5: Conectar y escribir en la base de datos SQLite\n",
    "\n",
    "conn = sqlite3.connect(\"idealista_properties.db\")\n",
    "cursor = conn.cursor()\n",
    "\n",
    "# Crea la tabla si no existe\n",
    "cursor.execute('''\n",
    "    CREATE TABLE IF NOT EXISTS properties (\n",
    "        id INTEGER PRIMARY KEY,\n",
    "        title TEXT,\n",
    "        price TEXT,\n",
    "        location TEXT,\n",
    "        features TEXT\n",
    "    )\n",
    "''')\n",
    "\n",
    "# Inserta los registros en la tabla\n",
    "cursor.executemany('''\n",
    "    INSERT INTO properties (title, price, location, features)\n",
    "    VALUES (?, ?, ?, ?)\n",
    "''', records)\n",
    "\n",
    "conn.commit()\n",
    "conn.close()\n",
    "\n",
    "print(\"Datos almacenados en la base de datos SQLite.\")"
   ]
  },
  {
   "cell_type": "code",
   "execution_count": 20,
   "metadata": {},
   "outputs": [
    {
     "name": "stdout",
     "output_type": "stream",
     "text": [
      "Datos almacenados en el archivo CSV: idealista_properties.csv\n"
     ]
    }
   ],
   "source": [
    "import csv\n",
    "\n",
    "# Nombre del archivo CSV\n",
    "csv_filename = \"idealista_properties.csv\"\n",
    "\n",
    "# Encabezados para el archivo CSV\n",
    "csv_headers = [\"Title\", \"Price\", \"Location\", \"Features\"]\n",
    "\n",
    "# Escribir los registros en el archivo CSV\n",
    "with open(csv_filename, \"w\", newline=\"\", encoding=\"utf-8\") as csv_file:\n",
    "    csv_writer = csv.writer(csv_file)\n",
    "\n",
    "    # Escribir los encabezados\n",
    "    csv_writer.writerow(csv_headers)\n",
    "\n",
    "    # Escribir los registros\n",
    "    for record in records:\n",
    "        csv_writer.writerow(record)\n",
    "\n",
    "print(f\"Datos almacenados en el archivo CSV: {csv_filename}\")"
   ]
  }
 ],
 "metadata": {
  "kernelspec": {
   "display_name": "Python 3",
   "language": "python",
   "name": "python3"
  },
  "language_info": {
   "codemirror_mode": {
    "name": "ipython",
    "version": 3
   },
   "file_extension": ".py",
   "mimetype": "text/x-python",
   "name": "python",
   "nbconvert_exporter": "python",
   "pygments_lexer": "ipython3",
   "version": "3.9.5"
  },
  "orig_nbformat": 4
 },
 "nbformat": 4,
 "nbformat_minor": 2
}
