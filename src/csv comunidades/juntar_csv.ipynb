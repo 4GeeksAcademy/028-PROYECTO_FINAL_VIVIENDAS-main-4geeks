{
 "cells": [
  {
   "cell_type": "markdown",
   "metadata": {},
   "source": [
    "## unir csv provincias a comunidades"
   ]
  },
  {
   "cell_type": "code",
   "execution_count": 28,
   "metadata": {},
   "outputs": [
    {
     "name": "stdout",
     "output_type": "stream",
     "text": [
      "Columna 'Provincia' agregada exitosamente al archivo murcia.csv.\n"
     ]
    }
   ],
   "source": [
    "import pandas as pd\n",
    "\n",
    "# Lee el archivo CSV existente de Murcia, especificando el delimitador como punto y coma\n",
    "df_murcia = pd.read_csv('murcia.csv', delimiter=';')\n",
    "\n",
    "# Agrega una columna 'Provincia' en el DataFrame de Murcia para indicar la provincia de origen\n",
    "df_murcia['Provincia'] = 'Murcia'\n",
    "\n",
    "# Reordena las columnas para que 'Provincia' sea la primera\n",
    "column_order_murcia = ['Provincia'] + [col for col in df_murcia.columns if col != 'Provincia']\n",
    "df_murcia = df_murcia[column_order_murcia]\n",
    "\n",
    "# Guarda el DataFrame actualizado de Murcia en el mismo archivo CSV\n",
    "df_murcia.to_csv('murcia.csv', index=False)\n",
    "\n",
    "print(\"Columna 'Provincia' agregada exitosamente al archivo murcia.csv.\")\n"
   ]
  },
  {
   "cell_type": "markdown",
   "metadata": {},
   "source": [
    "## unir todoas csv de comunidades"
   ]
  },
  {
   "cell_type": "code",
   "execution_count": 2,
   "metadata": {},
   "outputs": [
    {
     "name": "stdout",
     "output_type": "stream",
     "text": [
      "Archivos CSV de todas las comunidades autónomas combinados exitosamente en un archivo todas_comunidades.csv.\n"
     ]
    }
   ],
   "source": [
    "import pandas as pd\n",
    "\n",
    "# Lista de nombres de los archivos CSV de las diferentes comunidades autónomas\n",
    "archivos_comunidades = [\n",
    "    'andalucia.csv', 'aragon.csv', 'asturias.csv', 'islas_baleares.csv', 'islas_canarias.csv', \n",
    "    'cantabria.csv', 'castilla leon.csv', 'cataluña.csv', 'ceuta.csv', 'extremadura.csv', \n",
    "    'galicia.csv', 'la_rioja.csv', 'com_madrid.csv', 'melilla.csv', 'murcia.csv', 'navarra.csv', \n",
    "    'com_valenciana.csv', 'pais_vasco.csv'\n",
    "]\n",
    "\n",
    "# Lista para almacenar los DataFrames de las diferentes comunidades autónomas\n",
    "dataframes_comunidades = []\n",
    "\n",
    "# Leer y combinar los archivos CSV en los DataFrames\n",
    "for archivo in archivos_comunidades:\n",
    "    df_comunidad = pd.read_csv(archivo)\n",
    "    dataframes_comunidades.append(df_comunidad)\n",
    "\n",
    "# Concatenar todos los DataFrames en uno solo\n",
    "df_todas_comunidades = pd.concat(dataframes_comunidades, ignore_index=True)\n",
    "\n",
    "# Guardar el DataFrame combinado de todas las comunidades autónomas en un archivo CSV\n",
    "df_todas_comunidades.to_csv('todas_comunidades.csv', index=False)\n",
    "\n",
    "print(\"Archivos CSV de todas las comunidades autónomas combinados exitosamente en un archivo todas_comunidades.csv.\")\n"
   ]
  },
  {
   "cell_type": "code",
   "execution_count": 2,
   "metadata": {},
   "outputs": [
    {
     "name": "stdout",
     "output_type": "stream",
     "text": [
      "<class 'pandas.core.frame.DataFrame'>\n",
      "RangeIndex: 46428 entries, 0 to 46427\n",
      "Data columns (total 16 columns):\n",
      " #   Column            Non-Null Count  Dtype  \n",
      "---  ------            --------------  -----  \n",
      " 0   provincia         9166 non-null   object \n",
      " 1   tipo/lugar        9166 non-null   object \n",
      " 2   link              9166 non-null   object \n",
      " 3   precio            9166 non-null   object \n",
      " 4   caracteristicas   9166 non-null   object \n",
      " 5   info              9157 non-null   object \n",
      " 6   otros             1143 non-null   object \n",
      " 7   Provincia         37262 non-null  object \n",
      " 8   Id del anuncio    37262 non-null  float64\n",
      " 9   Título            37262 non-null  object \n",
      " 10  Tipo de inmueble  37262 non-null  object \n",
      " 11  Descripción       37262 non-null  object \n",
      " 12  Teléfono          37262 non-null  object \n",
      " 13  Dirección         37262 non-null  object \n",
      " 14  Precio            37262 non-null  float64\n",
      " 15  Habitaciones      37262 non-null  float64\n",
      "dtypes: float64(3), object(13)\n",
      "memory usage: 5.7+ MB\n",
      "None\n"
     ]
    }
   ],
   "source": [
    "import pandas as pd\n",
    "\n",
    "# Lee el archivo CSV de todas las comunidades autónomas\n",
    "df_todas_comunidades = pd.read_csv('todas_comunidades.csv')\n",
    "\n",
    "# Muestra información sobre el DataFrame\n",
    "print(df_todas_comunidades.info())\n"
   ]
  },
  {
   "cell_type": "code",
   "execution_count": 3,
   "metadata": {},
   "outputs": [
    {
     "name": "stdout",
     "output_type": "stream",
     "text": [
      "Registros duplicados:\n",
      "      provincia                                         tipo/lugar  \\\n",
      "1090     Málaga  Piso en calle Cuarteles, 15, Perchel sur - El ...   \n",
      "1091     Málaga  Chalet pareado en Capellanía - Retamar, Alhaur...   \n",
      "1092     Málaga  Piso en calle Alonso de Palencia, Perchel nort...   \n",
      "1093     Málaga  Piso en Arrabal la Laguna, 176, Poniente-Faro,...   \n",
      "1094     Málaga  Casa o chalet independiente en calle Escorial,...   \n",
      "...         ...                                                ...   \n",
      "46396       NaN                                                NaN   \n",
      "46398       NaN                                                NaN   \n",
      "46399       NaN                                                NaN   \n",
      "46402       NaN                                                NaN   \n",
      "46405       NaN                                                NaN   \n",
      "\n",
      "                                                    link       precio  \\\n",
      "1090   https://www.idealista.com/venta-viviendas/mala...    369,000 €   \n",
      "1091   https://www.idealista.com/venta-viviendas/mala...    450,000 €   \n",
      "1092   https://www.idealista.com/venta-viviendas/mala...    207,000 €   \n",
      "1093   https://www.idealista.com/venta-viviendas/mala...    279,900 €   \n",
      "1094   https://www.idealista.com/venta-viviendas/mala...  2,180,000 €   \n",
      "...                                                  ...          ...   \n",
      "46396                                                NaN          NaN   \n",
      "46398                                                NaN          NaN   \n",
      "46399                                                NaN          NaN   \n",
      "46402                                                NaN          NaN   \n",
      "46405                                                NaN          NaN   \n",
      "\n",
      "                                     caracteristicas  \\\n",
      "1090   3 hab. 143 m² Planta 1ª exterior con ascensor   \n",
      "1091                                   4 hab. 221 m²   \n",
      "1092    2 hab. 50 m² Planta 4ª interior con ascensor   \n",
      "1093    2 hab. 93 m² Planta 3ª exterior con ascensor   \n",
      "1094                                   3 hab. 303 m²   \n",
      "...                                              ...   \n",
      "46396                                            NaN   \n",
      "46398                                            NaN   \n",
      "46399                                            NaN   \n",
      "46402                                            NaN   \n",
      "46405                                            NaN   \n",
      "\n",
      "                                                    info  \\\n",
      "1090   Gilmar Consulting Inmobiliario vende piso de 1...   \n",
      "1091   Gilmar Consulting Inmobiliario vende chale par...   \n",
      "1092   ¡Excelente vivienda rehabilitada! Clikalia pon...   \n",
      "1093   EN EXCLUSIVA CON GARRIDO A UN PASO DE LA PLAYA...   \n",
      "1094   Situada en una calle residencial de Las Brisas...   \n",
      "...                                                  ...   \n",
      "46396                                                NaN   \n",
      "46398                                                NaN   \n",
      "46399                                                NaN   \n",
      "46402                                                NaN   \n",
      "46405                                                NaN   \n",
      "\n",
      "                          otros Provincia  Id del anuncio              Título  \\\n",
      "1090   Con vistas Vistas al mar       NaN             NaN                 NaN   \n",
      "1091                 Lujo Villa       NaN             NaN                 NaN   \n",
      "1092                  Reformado       NaN             NaN                 NaN   \n",
      "1093                       Lujo       NaN             NaN                 NaN   \n",
      "1094                 Lujo Villa       NaN             NaN                 NaN   \n",
      "...                         ...       ...             ...                 ...   \n",
      "46396                       NaN   Vizcaya     101841599.0  Piso en bertendona   \n",
      "46398                       NaN   Vizcaya     100410412.0                Piso   \n",
      "46399                       NaN   Vizcaya      87091457.0              Chalet   \n",
      "46402                       NaN   Vizcaya      97809617.0                Piso   \n",
      "46405                       NaN   Vizcaya      98979017.0                Piso   \n",
      "\n",
      "      Tipo de inmueble                                        Descripción  \\\n",
      "1090               NaN                                                NaN   \n",
      "1091               NaN                                                NaN   \n",
      "1092               NaN                                                NaN   \n",
      "1093               NaN                                                NaN   \n",
      "1094               NaN                                                NaN   \n",
      "...                ...                                                ...   \n",
      "46396             Piso  El piso en venta en la calle Bertendona suena ...   \n",
      "46398             Piso  INMOBILIARIA QUORUM GETXO VENDE EN EXCLUSIVA p...   \n",
      "46399           Chalet  Atehome comercializa magnífica casa con vistas...   \n",
      "46402             Piso  Atehome vende vivienda impecable, completament...   \n",
      "46405             Piso  INMOBILIARIA QUORUM GETXO vende precioso bajo ...   \n",
      "\n",
      "        Teléfono                Dirección     Precio  Habitaciones  \n",
      "1090         NaN                      NaN        NaN           NaN  \n",
      "1091         NaN                      NaN        NaN           NaN  \n",
      "1092         NaN                      NaN        NaN           NaN  \n",
      "1093         NaN                      NaN        NaN           NaN  \n",
      "1094         NaN                      NaN        NaN           NaN  \n",
      "...          ...                      ...        ...           ...  \n",
      "46396  946980770               bertendona   750000.0           5.0  \n",
      "46398  946980700        Negurigane-Peruri   480000.0           3.0  \n",
      "46399  946980868      Sta. María de Getxo  2450000.0           8.0  \n",
      "46402  946980868  Otxarkoaga - Txurdinaga   395000.0           3.0  \n",
      "46405  946980700        Negurigane-Peruri   485000.0           3.0  \n",
      "\n",
      "[3572 rows x 16 columns]\n"
     ]
    }
   ],
   "source": [
    "# Encuentra y muestra los registros duplicados basados en todas las columnas\n",
    "duplicados = df_todas_comunidades[df_todas_comunidades.duplicated()]\n",
    "\n",
    "print(\"Registros duplicados:\")\n",
    "print(duplicados)"
   ]
  },
  {
   "cell_type": "code",
   "execution_count": 4,
   "metadata": {},
   "outputs": [
    {
     "name": "stdout",
     "output_type": "stream",
     "text": [
      "Registros duplicados eliminados y datos guardados en comunidades_sin_duplicados.csv.\n"
     ]
    }
   ],
   "source": [
    "# Elimina los registros duplicados basados en todas las columnas\n",
    "df_sin_duplicados = df_todas_comunidades.drop_duplicates()\n",
    "\n",
    "# Guarda el DataFrame sin duplicados en un nuevo archivo CSV\n",
    "df_sin_duplicados.to_csv('comunidades_sin_duplicados.csv', index=False)\n",
    "\n",
    "print(\"Registros duplicados eliminados y datos guardados en comunidades_sin_duplicados.csv.\")"
   ]
  },
  {
   "cell_type": "code",
   "execution_count": 6,
   "metadata": {},
   "outputs": [
    {
     "name": "stdout",
     "output_type": "stream",
     "text": [
      "Primeras 7 comas eliminadas y datos guardados en comunidades_modificado.csv.\n"
     ]
    }
   ],
   "source": [
    "import pandas as pd\n",
    "\n",
    "# Lee el archivo CSV de todas las comunidades autónomas\n",
    "df_todas_comunidades = pd.read_csv('todas_comunidades.csv')\n",
    "\n",
    "# Lista de columnas en las que deseas eliminar las primeras 7 comas\n",
    "columnas_eliminar_comas = ['provincia', 'tipo/lugar', 'link', 'precio', 'caracteristicas', 'info', 'otros']\n",
    "\n",
    "# Elimina las primeras 7 comas en las columnas especificadas a partir de la línea 14610\n",
    "for columna in columnas_eliminar_comas:\n",
    "    df_todas_comunidades[columna] = df_todas_comunidades[columna].str.replace(r'^([^,]*,){7}', '')\n",
    "\n",
    "# Guarda el DataFrame con las modificaciones en un nuevo archivo CSV\n",
    "df_todas_comunidades.to_csv('comunidades_modificado.csv', index=False)\n",
    "\n",
    "print(\"Primeras 7 comas eliminadas y datos guardados en comunidades_modificado.csv.\")\n"
   ]
  }
 ],
 "metadata": {
  "kernelspec": {
   "display_name": "Python 3",
   "language": "python",
   "name": "python3"
  },
  "language_info": {
   "codemirror_mode": {
    "name": "ipython",
    "version": 3
   },
   "file_extension": ".py",
   "mimetype": "text/x-python",
   "name": "python",
   "nbconvert_exporter": "python",
   "pygments_lexer": "ipython3",
   "version": "3.9.5"
  },
  "orig_nbformat": 4
 },
 "nbformat": 4,
 "nbformat_minor": 2
}
