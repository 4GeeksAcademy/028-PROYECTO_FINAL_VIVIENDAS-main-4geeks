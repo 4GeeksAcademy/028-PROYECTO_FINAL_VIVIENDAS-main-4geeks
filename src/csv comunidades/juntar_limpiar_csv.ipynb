{
 "cells": [
  {
   "cell_type": "markdown",
   "metadata": {},
   "source": [
    "## unir csv provincias a comunidades"
   ]
  },
  {
   "cell_type": "code",
   "execution_count": 17,
   "metadata": {},
   "outputs": [
    {
     "name": "stdout",
     "output_type": "stream",
     "text": [
      "Columna 'Provincia' agregada exitosamente al archivo murcia.csv.\n"
     ]
    }
   ],
   "source": [
    "import pandas as pd\n",
    "\n",
    "# Lee el archivo CSV existente de Murcia, especificando el delimitador como punto y coma\n",
    "df_murcia = pd.read_csv(r'C:\\Users\\Jaime\\Desktop\\4GEEKS\\PROYECTOS\\028-PROYECTO_FINAL_VIVIENDAS-main\\src\\csv provincias\\murcia.csv', delimiter=';')\n",
    "\n",
    "# Agrega una columna 'Provincia' en el DataFrame de Murcia para indicar la provincia de origen\n",
    "df_murcia['Provincia'] = 'Murcia'\n",
    "\n",
    "# Reordena las columnas para que 'Provincia' sea la primera\n",
    "column_order_murcia = ['Provincia'] + [col for col in df_murcia.columns if col != 'Provincia']\n",
    "df_murcia = df_murcia[column_order_murcia]\n",
    "\n",
    "# Guarda el DataFrame actualizado de Murcia en el mismo archivo CSV\n",
    "df_murcia.to_csv('murcia.csv', index=False)\n",
    "\n",
    "print(\"Columna 'Provincia' agregada exitosamente al archivo murcia.csv.\")\n"
   ]
  },
  {
   "cell_type": "markdown",
   "metadata": {},
   "source": [
    "## unir todoas csv de comunidades"
   ]
  },
  {
   "cell_type": "code",
   "execution_count": 16,
   "metadata": {},
   "outputs": [
    {
     "name": "stdout",
     "output_type": "stream",
     "text": [
      "Archivos CSV de todas las comunidades autónomas combinados exitosamente en un archivo todas_comunidades.csv.\n"
     ]
    }
   ],
   "source": [
    "#unimos por partes ya que no tenemos las mismas columnas\n",
    "\n",
    "import pandas as pd\n",
    "\n",
    "# Lista de nombres de los archivos CSV de las diferentes comunidades autónomas\n",
    "archivos_comunidades = [\n",
    "    'andalucia.csv', 'aragon.csv', 'cantabria.csv', 'castilla leon.csv', 'castilla_mancha.csv', 'cataluña.csv',\n",
    "    'navarra.csv'\n",
    "]\n",
    "\n",
    "# Lista para almacenar los DataFrames de las diferentes comunidades autónomas\n",
    "dataframes_comunidades = []\n",
    "\n",
    "# Leer y combinar los archivos CSV en los DataFrames\n",
    "for archivo in archivos_comunidades:\n",
    "    df_comunidad = pd.read_csv(archivo)\n",
    "    dataframes_comunidades.append(df_comunidad)\n",
    "\n",
    "# Concatenar todos los DataFrames en uno solo\n",
    "df_todas_comunidades = pd.concat(dataframes_comunidades, ignore_index=True)\n",
    "\n",
    "# Guardar el DataFrame combinado de todas las comunidades autónomas en un archivo CSV\n",
    "df_todas_comunidades.to_csv('COMUNIDADES01.csv', index=False)\n",
    "\n",
    "print(\"Archivos CSV de todas las comunidades autónomas combinados exitosamente en un archivo todas_comunidades.csv.\")\n"
   ]
  },
  {
   "cell_type": "code",
   "execution_count": 18,
   "metadata": {},
   "outputs": [
    {
     "name": "stdout",
     "output_type": "stream",
     "text": [
      "Archivos CSV de todas las comunidades autónomas combinados exitosamente en un archivo todas_comunidades.csv.\n"
     ]
    }
   ],
   "source": [
    "#unimos por partes ya que no tenemos las mismas columnas\n",
    "\n",
    "import pandas as pd\n",
    "\n",
    "# Lista de nombres de los archivos CSV de las diferentes comunidades autónomas\n",
    "archivos_comunidades = [\n",
    "    'asturias.csv', 'ceuta.csv', 'com_madrid.csv', 'extremadura.csv', 'galicia.csv', 'islas_baleares.csv',\n",
    "    'islas_canarias.csv', 'la_rioja.csv', 'murcia.csv', 'melilla.csv', 'com_valenciana.csv'\n",
    "]\n",
    "\n",
    "# Lista para almacenar los DataFrames de las diferentes comunidades autónomas\n",
    "dataframes_comunidades = []\n",
    "\n",
    "# Leer y combinar los archivos CSV en los DataFrames\n",
    "for archivo in archivos_comunidades:\n",
    "    df_comunidad = pd.read_csv(archivo)\n",
    "    dataframes_comunidades.append(df_comunidad)\n",
    "\n",
    "# Concatenar todos los DataFrames en uno solo\n",
    "df_todas_comunidades = pd.concat(dataframes_comunidades, ignore_index=True)\n",
    "\n",
    "# Guardar el DataFrame combinado de todas las comunidades autónomas en un archivo CSV\n",
    "df_todas_comunidades.to_csv('COMUNIDADES02.csv', index=False)\n",
    "\n",
    "print(\"Archivos CSV de todas las comunidades autónomas combinados exitosamente en un archivo todas_comunidades.csv.\")\n"
   ]
  },
  {
   "cell_type": "markdown",
   "metadata": {},
   "source": [
    "## limpiamos columnas COMUNIDADES01"
   ]
  },
  {
   "cell_type": "code",
   "execution_count": 54,
   "metadata": {},
   "outputs": [
    {
     "name": "stdout",
     "output_type": "stream",
     "text": [
      "Columna tipo/lugar renombrada a descripción. Columnas link, info y otros eliminadas. Datos guardados en comunidades_modificado.csv.\n"
     ]
    }
   ],
   "source": [
    "import pandas as pd\n",
    "\n",
    "# Lee el archivo CSV de todas las comunidades autónomas\n",
    "df_01 = pd.read_csv('COMUNIDADES01.csv')\n",
    "\n",
    "# Cambia el nombre de la columna 'tipo/lugar' a 'descripción'\n",
    "df_01.rename(columns={'tipo/lugar': 'descripción'}, inplace=True)\n",
    "\n",
    "# Lista de columnas a eliminar\n",
    "columnas_a_eliminar = ['link', 'info', 'otros']\n",
    "\n",
    "# Elimina las columnas especificadas\n",
    "df_modificado = df_01.drop(columns=columnas_a_eliminar)\n",
    "\n",
    "# Guarda el DataFrame modificado en un nuevo archivo CSV\n",
    "df_modificado.to_csv('comunidades01_modificado.csv', index=False)\n",
    "\n",
    "print(\"Columna tipo/lugar renombrada a descripción. Columnas link, info y otros eliminadas. Datos guardados en comunidades_modificado.csv.\")\n"
   ]
  },
  {
   "cell_type": "markdown",
   "metadata": {},
   "source": [
    "## separamos columna 'caracteristicas'"
   ]
  },
  {
   "cell_type": "code",
   "execution_count": 55,
   "metadata": {},
   "outputs": [
    {
     "name": "stdout",
     "output_type": "stream",
     "text": [
      "Columna 'caracteristicas' separada en columnas 'habitaciones', 'm²' y 'planta'. Datos guardados en comunidades_modificado.csv.\n"
     ]
    }
   ],
   "source": [
    "import pandas as pd\n",
    "import re\n",
    "\n",
    "# Lee el archivo CSV de todas las comunidades autónomas\n",
    "df_todas_comunidades = pd.read_csv('comunidades01_modificado.csv')\n",
    "\n",
    "# Función para extraer datos de características\n",
    "def extraer_caracteristicas(texto):\n",
    "    habitaciones = re.search(r'(\\d+)\\s*hab\\.', texto)\n",
    "    m2 = re.search(r'(\\d+)\\s*m²', texto)\n",
    "    planta = re.search(r'Planta\\s*(\\d+)|bajo', texto, re.IGNORECASE)\n",
    "    \n",
    "    habitaciones = habitaciones.group(1) if habitaciones else ''\n",
    "    m2 = m2.group(1) if m2 else ''\n",
    "    \n",
    "    if planta:\n",
    "        planta = '0' if planta.group().lower() == 'bajo' else planta.group(1)\n",
    "    else:\n",
    "        planta = ''\n",
    "    \n",
    "    return habitaciones, m2, planta\n",
    "\n",
    "# Aplica la función a la columna 'caracteristicas' y crea nuevas columnas\n",
    "df_todas_comunidades['habitaciones'], df_todas_comunidades['m²'], df_todas_comunidades['planta'] = zip(*df_todas_comunidades['caracteristicas'].map(extraer_caracteristicas))\n",
    "\n",
    "# Elimina la columna 'caracteristicas' original\n",
    "df_todas_comunidades.drop(columns=['caracteristicas'], inplace=True)\n",
    "\n",
    "# Guarda el DataFrame modificado en un nuevo archivo CSV\n",
    "df_todas_comunidades.to_csv('comunidades01_modificado02.csv', index=False)\n",
    "\n",
    "print(\"Columna 'caracteristicas' separada en columnas 'habitaciones', 'm²' y 'planta'. Datos guardados en comunidades_modificado.csv.\")\n"
   ]
  },
  {
   "cell_type": "markdown",
   "metadata": {},
   "source": [
    "## imprimimos para comprobar si se ha modificado la columna 'caracteristicas'"
   ]
  },
  {
   "cell_type": "code",
   "execution_count": 56,
   "metadata": {},
   "outputs": [
    {
     "name": "stdout",
     "output_type": "stream",
     "text": [
      "  provincia                                        descripción     precio  \\\n",
      "0   Almería  Chalet pareado en calle Ajedrea, La Cañada - C...  179,900 €   \n",
      "1   Almería  Piso en calle troya, s/n, Aguadulce sur, Roque...  210,600 €   \n",
      "2   Almería                     Piso en Centro-Rambla, Almería  210,000 €   \n",
      "3   Almería  Piso en calle San José Obrero, 156, El Puerto ...   83,000 €   \n",
      "4   Almería  Chalet adosado en constantino el grande, 1, Ro...  229,000 €   \n",
      "5   Almería  Piso en calle Santa Isabel, Altamira - Olivero...   95,000 €   \n",
      "6   Almería  Chalet adosado en calle Cerro Largo, s/n, El S...  170,000 €   \n",
      "7   Almería  Piso en paseo del Moro Manco, 22, Zona Urb. Ma...  104,900 €   \n",
      "8   Almería  Piso en calle Doctor Gregorio Marañón, 32, Alt...  340,000 €   \n",
      "9   Almería  Ático en calle Navarro Rodrigo, 5, Centro, Alm...  599,900 €   \n",
      "\n",
      "   habitaciones   m²  planta  \n",
      "0           3.0  114     NaN  \n",
      "1           3.0  141     2.0  \n",
      "2           4.0  153     1.0  \n",
      "3           2.0   64     0.0  \n",
      "4           5.0  150     NaN  \n",
      "5           4.0   97     3.0  \n",
      "6           2.0   84     NaN  \n",
      "7           2.0   58     1.0  \n",
      "8           3.0  139     6.0  \n",
      "9           3.0  173     3.0  \n"
     ]
    }
   ],
   "source": [
    "import pandas as pd\n",
    "\n",
    "# Lee el archivo CSV modificado\n",
    "df_modificado = pd.read_csv('comunidades01_modificado02.csv')\n",
    "\n",
    "# Imprime las primeras 10 líneas del DataFrame\n",
    "print(df_modificado.head(10))\n"
   ]
  },
  {
   "cell_type": "markdown",
   "metadata": {},
   "source": [
    "## limpiamos la columna 'Descripción' para sacar el tipo de vivienda"
   ]
  },
  {
   "cell_type": "code",
   "execution_count": 63,
   "metadata": {},
   "outputs": [
    {
     "name": "stdout",
     "output_type": "stream",
     "text": [
      "Columna 'descripción' modificada según especificaciones. Datos guardados en comunidades_modificado.csv.\n"
     ]
    }
   ],
   "source": [
    "import pandas as pd\n",
    "\n",
    "# Lee el archivo CSV modificado\n",
    "df_modificado = pd.read_csv('comunidades01_modificado02.csv')\n",
    "\n",
    "# Función para modificar la columna 'descripción'\n",
    "def modificar_descripcion(texto):\n",
    "    palabras_clave = ['chalet', 'piso', 'ático', 'dúplex', 'casa', 'Cortijo', 'Finca', 'estudio', 'caserón', 'masía'\n",
    "                      'palacio', 'torre', 'Castillo']\n",
    "    \n",
    "    for palabra in palabras_clave:\n",
    "        if palabra.lower() in texto.lower():\n",
    "            return palabra.capitalize()\n",
    "    \n",
    "    return texto\n",
    "\n",
    "# Aplica la función a la columna 'descripción'\n",
    "df_modificado['descripción'] = df_modificado['descripción'].map(modificar_descripcion)\n",
    "\n",
    "# Guarda el DataFrame modificado en un nuevo archivo CSV\n",
    "df_modificado.to_csv('comunidades01_modificado03.csv', index=False)\n",
    "\n",
    "print(\"Columna 'descripción' modificada según especificaciones. Datos guardados en comunidades_modificado.csv.\")\n"
   ]
  },
  {
   "cell_type": "markdown",
   "metadata": {},
   "source": [
    "## imprimimos csv con columnas limpias"
   ]
  },
  {
   "cell_type": "code",
   "execution_count": 67,
   "metadata": {},
   "outputs": [
    {
     "name": "stdout",
     "output_type": "stream",
     "text": [
      "  provincia descripción     precio  habitaciones   m²  planta\n",
      "0   Almería      Chalet  179,900 €           3.0  114     NaN\n",
      "1   Almería        Piso  210,600 €           3.0  141     2.0\n",
      "2   Almería        Piso  210,000 €           4.0  153     1.0\n",
      "3   Almería        Piso   83,000 €           2.0   64     0.0\n",
      "4   Almería      Chalet  229,000 €           5.0  150     NaN\n",
      "5   Almería        Piso   95,000 €           4.0   97     3.0\n",
      "6   Almería      Chalet  170,000 €           2.0   84     NaN\n",
      "7   Almería        Piso  104,900 €           2.0   58     1.0\n",
      "8   Almería        Piso  340,000 €           3.0  139     6.0\n",
      "9   Almería       Ático  599,900 €           3.0  173     3.0\n"
     ]
    }
   ],
   "source": [
    "import pandas as pd\n",
    "\n",
    "# Lee el archivo CSV modificado\n",
    "df_modificado = pd.read_csv(r'C:\\Users\\Jaime\\Desktop\\4GEEKS\\PROYECTOS\\028-PROYECTO_FINAL_VIVIENDAS-main\\src\\csv limpios\\comunidades01_modificado03_LIMPIO.csv')\n",
    "\n",
    "# Imprime las primeras 10 líneas del DataFrame\n",
    "print(df_modificado.head(10))\n"
   ]
  },
  {
   "cell_type": "markdown",
   "metadata": {},
   "source": [
    "## limpiamos columnas COMUNIDADES02"
   ]
  },
  {
   "cell_type": "code",
   "execution_count": 46,
   "metadata": {},
   "outputs": [
    {
     "name": "stdout",
     "output_type": "stream",
     "text": [
      "Columna tipo/lugar renombrada a descripción. Columnas link, info y otros eliminadas. Datos guardados en comunidades02_modificado.csv.\n"
     ]
    }
   ],
   "source": [
    "import pandas as pd\n",
    "\n",
    "# Lee el archivo CSV de todas las comunidades autónomas\n",
    "df_01 = pd.read_csv('COMUNIDADES02.csv')\n",
    "\n",
    "# Cambia el nombre de la columna 'tipo/lugar' a 'descripción'\n",
    "df_01.rename(columns={'Tipo de inmueble': 'descrip'}, inplace=True)\n",
    "\n",
    "# Lista de columnas a eliminar\n",
    "columnas_a_eliminar = ['Id del anuncio', 'Título', 'Descripción', 'Teléfono', 'Dirección']\n",
    "\n",
    "# Elimina las columnas especificadas\n",
    "df_modificado = df_01.drop(columns=columnas_a_eliminar)\n",
    "\n",
    "# Guarda el DataFrame modificado en un nuevo archivo CSV\n",
    "df_modificado.to_csv('comunidades02_modificado.csv', index=False)\n",
    "\n",
    "print(\"Columna tipo/lugar renombrada a descripción. Columnas link, info y otros eliminadas. Datos guardados en comunidades02_modificado.csv.\")\n"
   ]
  },
  {
   "cell_type": "markdown",
   "metadata": {},
   "source": [
    "Provincia,Id del anuncio,Título,Tipo de inmueble,Descripción,Teléfono,Dirección,Precio,Habitaciones\n",
    "provincia,descripción,precio,habitaciones,m²,planta\n",
    "'Id del anuncio', 'Título', 'Descripción', 'Teléfono', 'Dirección'"
   ]
  },
  {
   "cell_type": "markdown",
   "metadata": {},
   "source": [
    "## separamos columna 'Descripción'"
   ]
  },
  {
   "cell_type": "code",
   "execution_count": 51,
   "metadata": {},
   "outputs": [
    {
     "name": "stdout",
     "output_type": "stream",
     "text": [
      "Columna tipo/lugar renombrada a descripción. Columna Descripción eliminada. Datos de Superficie guardados en comunidades02_modificado.csv.\n"
     ]
    }
   ],
   "source": [
    "import pandas as pd\n",
    "import re\n",
    "\n",
    "# Lee el archivo CSV de todas las comunidades autónomas\n",
    "df_01 = pd.read_csv('COMUNIDADES02.csv')\n",
    "\n",
    "# Cambia el nombre de la columna 'tipo/lugar' a 'descripción'\n",
    "df_01.rename(columns={'Tipo de inmueble': 'descrip'}, inplace=True)\n",
    "\n",
    "# Lista de columnas a eliminar\n",
    "columnas_a_eliminar = ['Id del anuncio', 'Título', 'Teléfono', 'Dirección']\n",
    "\n",
    "# Elimina las columnas especificadas\n",
    "df_modificado = df_01.drop(columns=columnas_a_eliminar)\n",
    "\n",
    "# Función para extraer valores de superficie basados en patrones\n",
    "def extract_superficie(description):\n",
    "    keywords = ['metros cuadrados', 'm2', 'm²', 'superficie']\n",
    "    for keyword in keywords:\n",
    "        pattern = rf'(\\d+)\\s*{re.escape(keyword)}'\n",
    "        match = re.search(pattern, description, flags=re.IGNORECASE)\n",
    "        if match:\n",
    "            return match.group(1)\n",
    "    return None\n",
    "\n",
    "# Aplica la función a la columna 'Descripción'\n",
    "df_modificado['m²'] = df_modificado['Descripción'].apply(extract_superficie)\n",
    "\n",
    "# Elimina la columna 'Descripción'\n",
    "df_modificado.drop(columns=['Descripción'], inplace=True)\n",
    "\n",
    "# Guarda el DataFrame modificado en un nuevo archivo CSV\n",
    "df_modificado.to_csv('comunidades02_modificado_LIMPIO.csv', index=False)\n",
    "\n",
    "print(\"Columna tipo/lugar renombrada a descripción. Columna Descripción eliminada. Datos de Superficie guardados en comunidades02_modificado.csv.\")\n"
   ]
  },
  {
   "cell_type": "markdown",
   "metadata": {},
   "source": [
    "## imprimimos para comprobar si se ha modificado la columna 'Descripción'"
   ]
  },
  {
   "cell_type": "code",
   "execution_count": 50,
   "metadata": {},
   "outputs": [
    {
     "name": "stdout",
     "output_type": "stream",
     "text": [
      "  Provincia descrip  Precio  Habitaciones   m²\n",
      "0  Asturias    Piso  244000             2   62\n",
      "1  Asturias  Chalet  670000             4  324\n",
      "2  Asturias    Piso  588000             3  165\n",
      "3  Asturias  Chalet  309000             4  395\n",
      "4  Asturias    Piso  259000             2   55\n",
      "5  Asturias    Piso  535000             6  103\n",
      "6  Asturias    Piso  168900             3   77\n",
      "7  Asturias    Piso  152000             2   61\n",
      "8  Asturias    Piso  249000             2   61\n",
      "9  Asturias    Piso  108000             3  229\n"
     ]
    }
   ],
   "source": [
    "import pandas as pd\n",
    "\n",
    "# Lee el archivo CSV modificado\n",
    "df_modificado = pd.read_csv('comunidades02_modificado02.csv')\n",
    "\n",
    "# Imprime las primeras 10 líneas del DataFrame\n",
    "print(df_modificado.head(10))"
   ]
  },
  {
   "cell_type": "markdown",
   "metadata": {},
   "source": [
    "--------------------------\n",
    "--------------------------"
   ]
  },
  {
   "cell_type": "markdown",
   "metadata": {},
   "source": [
    "## ordenamos y añadimos columna a COMUNIDADES01"
   ]
  },
  {
   "cell_type": "code",
   "execution_count": 69,
   "metadata": {},
   "outputs": [
    {
     "name": "stdout",
     "output_type": "stream",
     "text": [
      "Se ha agregado la columna 'com. autonoma' y se ha creado el archivo comunidades01_FINAL.csv\n"
     ]
    }
   ],
   "source": [
    "import csv\n",
    "\n",
    "# Diccionario de mapeo de provincias a comunidades autónomas\n",
    "provincias_a_comunidades = {\n",
    "    'Álava': 'País Vasco',\n",
    "    'Albacete': 'Castilla-La Mancha',\n",
    "    'Alicante': 'Comunidad Valenciana',\n",
    "    'Almería': 'Andalucía',\n",
    "    'Asturias': 'Principado de Asturias',\n",
    "    'Ávila': 'Castilla y León',\n",
    "    'Badajoz': 'Extremadura',\n",
    "    'Bacerlona': 'Cataluña',\n",
    "    'Burgos': 'Castilla y León',\n",
    "    'Cáceres': 'Extremadura',\n",
    "    'Cádiz': 'Andalucía',\n",
    "    'Cantabria': 'Cantabria',\n",
    "    'Castellón': 'Comunidad Valenciana',\n",
    "    'Ciudad Real': 'Castilla-La Mancha',\n",
    "    'Córdoba': 'Andalucía',\n",
    "    'Cuenca': 'Castilla-La Mancha',\n",
    "    'Girona': 'Cataluña',\n",
    "    'Granada': 'Andalucía',\n",
    "    'Guadalajara': 'Castilla-La Mancha',\n",
    "    'Guipúzcoa': 'País Vasco',\n",
    "    'Huelva': 'Andalucía',\n",
    "    'Huesca': 'Aragón',\n",
    "    'Islas Baleares': 'Islas Baleares',\n",
    "    'Jaén': 'Andalucía',\n",
    "    'La Coruña': 'Galicia',\n",
    "    'La Rioja': 'La Rioja',\n",
    "    'Las Palmas': 'Canarias',\n",
    "    'León': 'Castilla y León',\n",
    "    'Lleida': 'Cataluña',\n",
    "    'Lugo': 'Galicia',\n",
    "    'Madrid': 'Comunidad de Madrid',\n",
    "    'Málaga': 'Andalucía',\n",
    "    'Murcia': 'Región de Murcia',\n",
    "    'Navarra': 'Comunidad Foral de Navarra',\n",
    "    'Ourense': 'Galicia',\n",
    "    'Palencia': 'Castilla y León',\n",
    "    'Pontevedra': 'Galicia',\n",
    "    'Salamanca': 'Castilla y León',\n",
    "    'Santa Cruz de Tenerife': 'Canarias',\n",
    "    'Segovia': 'Castilla y León',\n",
    "    'Sevilla': 'Andalucía',\n",
    "    'Soria': 'Castilla y León',\n",
    "    'Tarragona': 'Cataluña',\n",
    "    'Teruel': 'Aragón',\n",
    "    'Toledo': 'Castilla-La Mancha',\n",
    "    'Valencia': 'Comunidad Valenciana',\n",
    "    'Valladolid': 'Castilla y León',\n",
    "    'Vizcaya': 'País Vasco',\n",
    "    'Zamora': 'Castilla y León',\n",
    "    'Zaragoza': 'Aragón',\n",
    "    'Ceuta': 'Ceuta',\n",
    "    'Melilla': 'Melilla'\n",
    "}\n",
    "\n",
    "# Nombre del archivo CSV de entrada y salida\n",
    "archivo_entrada = r'C:\\Users\\Jaime\\Desktop\\4GEEKS\\PROYECTOS\\028-PROYECTO_FINAL_VIVIENDAS-main\\src\\csv limpios\\comunidades01_modificado03_LIMPIO.csv'\n",
    "archivo_salida = 'comunidades01_FINAL.csv'\n",
    "\n",
    "# Abrir el archivo de entrada para lectura y el archivo de salida para escritura\n",
    "with open(archivo_entrada, 'r', newline='', encoding='utf-8') as csv_entrada, \\\n",
    "     open(archivo_salida, 'w', newline='', encoding='utf-8') as csv_salida:\n",
    "\n",
    "    lector_csv = csv.DictReader(csv_entrada)\n",
    "    campos_nuevos = ['com. autonoma'] + [campo for campo in lector_csv.fieldnames if campo != 'planta']\n",
    "    \n",
    "    escritor_csv = csv.DictWriter(csv_salida, fieldnames=campos_nuevos)\n",
    "    escritor_csv.writeheader()\n",
    "\n",
    "    for fila in lector_csv:\n",
    "        provincia = fila['provincia']\n",
    "        fila['com. autonoma'] = provincias_a_comunidades.get(provincia, 'Desconocida')\n",
    "        \n",
    "        # Eliminar comas, comillas, símbolo '€' y espacios de la columna 'precio'\n",
    "        fila['precio'] = fila['precio'].replace('\"', '').replace(',', '').replace('€', '').replace(' ', '')\n",
    "        \n",
    "        # Convertir número decimal en 'habitaciones' a número entero, si no está vacío\n",
    "        if fila['habitaciones']:\n",
    "            fila['habitaciones'] = int(float(fila['habitaciones']))\n",
    "        \n",
    "        del fila['planta']\n",
    "        escritor_csv.writerow(fila)\n",
    "\n",
    "\n",
    "print(\"Se ha agregado la columna 'com. autonoma' y se ha creado el archivo\", archivo_salida)\n"
   ]
  },
  {
   "cell_type": "markdown",
   "metadata": {},
   "source": [
    "## ordenamos y añadimos columna a COMUNIDADES02"
   ]
  },
  {
   "cell_type": "code",
   "execution_count": 107,
   "metadata": {},
   "outputs": [
    {
     "name": "stdout",
     "output_type": "stream",
     "text": [
      "Se ha agregado la columna 'com. autonoma' y se ha creado el archivo comunidades02_FINAL.csv\n"
     ]
    }
   ],
   "source": [
    "import csv\n",
    "\n",
    "# Diccionario de mapeo de provincias a comunidades autónomas\n",
    "provincias_a_comunidades = {\n",
    "    'Álava': 'País Vasco',\n",
    "    'Albacete': 'Castilla-La Mancha',\n",
    "    'Alicante': 'Comunidad Valenciana',\n",
    "    'Almería': 'Andalucía',\n",
    "    'Asturias': 'Principado de Asturias',\n",
    "    'Ávila': 'Castilla y León',\n",
    "    'Badajoz': 'Extremadura',\n",
    "    'Bacerlona': 'Cataluña',\n",
    "    'Burgos': 'Castilla y León',\n",
    "    'Cáceres': 'Extremadura',\n",
    "    'Cádiz': 'Andalucía',\n",
    "    'Cantabria': 'Cantabria',\n",
    "    'Castellón': 'Comunidad Valenciana',\n",
    "    'Ciudad Real': 'Castilla-La Mancha',\n",
    "    'Córdoba': 'Andalucía',\n",
    "    'Cuenca': 'Castilla-La Mancha',\n",
    "    'Girona': 'Cataluña',\n",
    "    'Granada': 'Andalucía',\n",
    "    'Guadalajara': 'Castilla-La Mancha',\n",
    "    'Guipúzcoa': 'País Vasco',\n",
    "    'Huelva': 'Andalucía',\n",
    "    'Huesca': 'Aragón',\n",
    "    'Islas Baleares': 'Islas Baleares',\n",
    "    'Jaén': 'Andalucía',\n",
    "    'A Coruña': 'Galicia',\n",
    "    'La Rioja': 'La Rioja',\n",
    "    'Las Palmas': 'Canarias',\n",
    "    'León': 'Castilla y León',\n",
    "    'Lleida': 'Cataluña',\n",
    "    'Lugo': 'Galicia',\n",
    "    'Madrid': 'Comunidad de Madrid',\n",
    "    'Málaga': 'Andalucía',\n",
    "    'Murcia': 'Región de Murcia',\n",
    "    'Navarra': 'Comunidad Foral de Navarra',\n",
    "    'Ourense': 'Galicia',\n",
    "    'Palencia': 'Castilla y León',\n",
    "    'Pontevedra': 'Galicia',\n",
    "    'Salamanca': 'Castilla y León',\n",
    "    'Santa Cruz de Tenerife': 'Canarias',\n",
    "    'Segovia': 'Castilla y León',\n",
    "    'Sevilla': 'Andalucía',\n",
    "    'Soria': 'Castilla y León',\n",
    "    'Tarragona': 'Cataluña',\n",
    "    'Teruel': 'Aragón',\n",
    "    'Toledo': 'Castilla-La Mancha',\n",
    "    'Valencia': 'Comunidad Valenciana',\n",
    "    'Valladolid': 'Castilla y León',\n",
    "    'Vizcaya': 'País Vasco',\n",
    "    'Zamora': 'Castilla y León',\n",
    "    'Zaragoza': 'Aragón',\n",
    "    'Ceuta': 'Ceuta',\n",
    "    'Melilla': 'Melilla'\n",
    "}\n",
    "\n",
    "# Nombre del archivo CSV de entrada y salida\n",
    "archivo_entrada = r'C:\\Users\\Jaime\\Desktop\\4GEEKS\\PROYECTOS\\028-PROYECTO_FINAL_VIVIENDAS-main\\src\\csv limpios\\comunidades02_modificado_LIMPIO.csv'\n",
    "archivo_salida = 'comunidades02_FINAL.csv'\n",
    "\n",
    "# Abrir el archivo de entrada para lectura y el archivo de salida para escritura\n",
    "with open(archivo_entrada, 'r', newline='', encoding='utf-8') as csv_entrada, \\\n",
    "     open(archivo_salida, 'w', newline='', encoding='utf-8') as csv_salida:\n",
    "\n",
    "    lector_csv = csv.DictReader(csv_entrada)\n",
    "    campos_nuevos = ['com. autonoma'] + [campo if campo != 'descrip' else 'descripción' for campo in lector_csv.fieldnames]\n",
    "    \n",
    "    escritor_csv = csv.DictWriter(csv_salida, fieldnames=campos_nuevos)\n",
    "    escritor_csv.writeheader()\n",
    "\n",
    "    for fila in lector_csv:\n",
    "        provincia = fila['Provincia']\n",
    "        fila['com. autonoma'] = provincias_a_comunidades.get(provincia, 'Desconocida')\n",
    "        \n",
    "        # Cambiar el nombre de la columna 'descrip' a 'descripción'\n",
    "        fila['descripción'] = fila.pop('descrip')\n",
    "        \n",
    "        escritor_csv.writerow(fila)\n",
    "\n",
    "print(\"Se ha agregado la columna 'com. autonoma' y se ha creado el archivo\", archivo_salida)\n"
   ]
  },
  {
   "cell_type": "code",
   "execution_count": 116,
   "metadata": {},
   "outputs": [
    {
     "name": "stdout",
     "output_type": "stream",
     "text": [
      "Se han combinado los archivos 'comunidades01_FINAL.csv' y 'comunidades02_FINAL.csv' en 'comunidades_FINAL.csv', y se han convertido los números decimales a enteros\n"
     ]
    }
   ],
   "source": [
    "import pandas as pd\n",
    "\n",
    "# Rutas de archivos de entrada\n",
    "archivo_entrada1 = 'comunidades01_FINAL.csv'\n",
    "archivo_entrada2 = 'comunidades02_FINAL.csv'\n",
    "\n",
    "# Cargar los datos de los archivos CSV en DataFrames de pandas\n",
    "df1 = pd.read_csv(archivo_entrada1)\n",
    "df2 = pd.read_csv(archivo_entrada2)\n",
    "\n",
    "# Combinar los DataFrames en uno solo\n",
    "df_final = pd.concat([df1, df2], ignore_index=True)\n",
    "\n",
    "# Convertir la columna 'precio' de decimal a entero\n",
    "df_final['precio'] = df_final['precio'].astype(int)\n",
    "\n",
    "# Convertir la columna 'habitaciones' de decimal a entero\n",
    "df_final['habitaciones'] = df_final['habitaciones'].fillna(0).astype(int)\n",
    "\n",
    "# Ruta del archivo de salida\n",
    "archivo_salida = 'comunidades_FINAL.csv'\n",
    "\n",
    "# Guardar el DataFrame combinado en un nuevo archivo CSV\n",
    "df_final.to_csv(archivo_salida, index=False)\n",
    "\n",
    "print(\"Se han combinado los archivos 'comunidades01_FINAL.csv' y 'comunidades02_FINAL.csv' en 'comunidades_FINAL.csv', y se han convertido los números decimales a enteros\")\n"
   ]
  }
 ],
 "metadata": {
  "kernelspec": {
   "display_name": "Python 3",
   "language": "python",
   "name": "python3"
  },
  "language_info": {
   "codemirror_mode": {
    "name": "ipython",
    "version": 3
   },
   "file_extension": ".py",
   "mimetype": "text/x-python",
   "name": "python",
   "nbconvert_exporter": "python",
   "pygments_lexer": "ipython3",
   "version": "3.9.5"
  },
  "orig_nbformat": 4
 },
 "nbformat": 4,
 "nbformat_minor": 2
}
